{
 "cells": [
  {
   "cell_type": "markdown",
   "metadata": {},
   "source": [
    "# Quantrack Python crash course 2.\n",
    "       \n",
    "### 1. Data type - Lists - Indexing and Slicing\n",
    "### 2. Built in list functions : len, max, min, append, insert, count, and set\n",
    "### 3. Exercises : Draw a pyramid, get prepare for the great loop experience"
   ]
  },
  {
   "cell_type": "markdown",
   "metadata": {},
   "source": [
    "Lists are the most commonly used data structure. \n",
    "\n",
    "Think of it as a sequence of data that is enclosed in square brackets and data are separated by a comma. Each of these data can be accessed by calling it's index value.\n",
    "\n",
    "Lists are declared by just equating a variable to '[ ]' or list."
   ]
  },
  {
   "cell_type": "markdown",
   "metadata": {},
   "source": [
    "## 1. Lists"
   ]
  },
  {
   "cell_type": "code",
   "execution_count": 52,
   "metadata": {},
   "outputs": [],
   "source": [
    "#Can someone explain me this ?\n",
    "\n",
    "import this"
   ]
  },
  {
   "cell_type": "code",
   "execution_count": 4,
   "metadata": {},
   "outputs": [
    {
     "name": "stdout",
     "output_type": "stream",
     "text": [
      "<class 'list'>\n"
     ]
    }
   ],
   "source": [
    "# Let's just define an empty list\n",
    "a = []\n",
    "\n",
    "print(type(a))"
   ]
  },
  {
   "cell_type": "code",
   "execution_count": 5,
   "metadata": {},
   "outputs": [],
   "source": [
    "list_of_companies = ['Apple','Amazon','Nike','Exito','Petroleo','Dior']"
   ]
  },
  {
   "cell_type": "markdown",
   "metadata": {},
   "source": [
    "### a. Indexing lists"
   ]
  },
  {
   "cell_type": "markdown",
   "metadata": {},
   "source": [
    "We have seen in the previous lessons on strings indexing starts from zero, same process for list."
   ]
  },
  {
   "cell_type": "code",
   "execution_count": 6,
   "metadata": {},
   "outputs": [
    {
     "data": {
      "text/plain": [
       "'Apple'"
      ]
     },
     "execution_count": 6,
     "metadata": {},
     "output_type": "execute_result"
    }
   ],
   "source": [
    "list_of_companies[0]"
   ]
  },
  {
   "cell_type": "markdown",
   "metadata": {},
   "source": [
    "#### Experience 1:"
   ]
  },
  {
   "cell_type": "code",
   "execution_count": 7,
   "metadata": {},
   "outputs": [],
   "source": [
    "x = list_of_companies[-1]\n",
    "y = list_of_companies[::-1]\n",
    "z = list_of_companies[1:]"
   ]
  },
  {
   "cell_type": "code",
   "execution_count": 11,
   "metadata": {},
   "outputs": [
    {
     "name": "stdout",
     "output_type": "stream",
     "text": [
      "Dior\n",
      "['Dior', 'Petroleo', 'Exito', 'Nike', 'Amazon', 'Apple']\n",
      "['Amazon', 'Nike', 'Exito', 'Petroleo', 'Dior']\n"
     ]
    }
   ],
   "source": [
    "print(x)\n",
    "print(y)\n",
    "print(z)"
   ]
  },
  {
   "cell_type": "code",
   "execution_count": 17,
   "metadata": {},
   "outputs": [],
   "source": [
    "group_1 = x\n",
    "group_2 = y\n",
    "\n",
    "merged_groups = [x,y]"
   ]
  },
  {
   "cell_type": "code",
   "execution_count": 21,
   "metadata": {},
   "outputs": [
    {
     "name": "stdout",
     "output_type": "stream",
     "text": [
      "Can Someone explain we why it is a damn bad idea to do this ?\n"
     ]
    }
   ],
   "source": [
    "merged_groups\n",
    "print(\"Can Someone explain we why it is a damn bad idea to do this ?\")"
   ]
  },
  {
   "cell_type": "markdown",
   "metadata": {},
   "source": [
    "#### Experience 2\n",
    "\n",
    "Try and answer these little questions"
   ]
  },
  {
   "cell_type": "code",
   "execution_count": 33,
   "metadata": {},
   "outputs": [
    {
     "name": "stdout",
     "output_type": "stream",
     "text": [
      "Explain me the following results\n",
      "\n",
      "merged_groups[0][0] returns D\n",
      "merged_groups[0] returns Dior\n",
      "merged_groups[1][4] returns Amazon\n"
     ]
    }
   ],
   "source": [
    "print(\"Explain me the following results\")\n",
    "print()\n",
    "\n",
    "print('merged_groups[0][0] returns',merged_groups[0][0])\n",
    "print('merged_groups[0] returns',merged_groups[0])\n",
    "print('merged_groups[1][4] returns',merged_groups[1][4])"
   ]
  },
  {
   "cell_type": "markdown",
   "metadata": {},
   "source": [
    "Questions ?\n",
    "\n",
    "*  Did you understand the use of the print statement ?\n",
    "*  Again, why is a damn bad f***** idea to create merged_lists ?"
   ]
  },
  {
   "cell_type": "markdown",
   "metadata": {},
   "source": [
    "Answers :\n",
    "\n",
    "* We use ',' to print a text a use a variable within the print statement\n",
    "* We create a non-intuitive way of indexing, if somebody has to review your code and you use the previous value, he will probably have trouble getting it, and hate you. In Python and programming in general , the simpler the better. Make sure your mommy can try and understand your code"
   ]
  },
  {
   "cell_type": "markdown",
   "metadata": {},
   "source": [
    "### b. Slicing lists"
   ]
  },
  {
   "cell_type": "markdown",
   "metadata": {},
   "source": [
    "* Indexing was only limited to accessing a single element : Slicing is accessing a sequence of data inside the list. In other words \"slicing\" the list.\n",
    "\n",
    "\n",
    "* Slicing is done by defining the index values of the first element and the last element from the parent list that is required in the sliced list. It is written as parentlist[ a : b ] where a,b are the index values from the parent list. \n",
    "\n",
    "\n",
    "* If a or b is not defined then the index value is considered to be the first value for a if a is not defined and the last value for b when b is not defined."
   ]
  },
  {
   "cell_type": "code",
   "execution_count": 34,
   "metadata": {},
   "outputs": [],
   "source": [
    "#you can check that out for your nerd culture\n",
    "list_of_cyberkeywords = ['https','icmp','ddos','turing_machine','metasploit','stuxnet']"
   ]
  },
  {
   "cell_type": "code",
   "execution_count": 50,
   "metadata": {},
   "outputs": [],
   "source": [
    "slice_1 = list_of_cyberkeywords[1:4]\n",
    "slice_2 = list_of_cyberkeywords[0:5]\n",
    "\n",
    "#Slice a parent list with a fixed length or step length.\n",
    "slice_3 = list_of_cyberkeywords[:6:4]"
   ]
  },
  {
   "cell_type": "markdown",
   "metadata": {},
   "source": [
    "### 2. Built in list functions : len, max, min, append, insert, count, and set\n",
    "\n",
    "Questions - I let you answer. \n",
    "\n",
    "* What is a built-in functions ?\n",
    "\n",
    "* Why is that related Object Oriented programming ?\n",
    "\n",
    "* Why do they make your life easier ? "
   ]
  },
  {
   "cell_type": "code",
   "execution_count": 56,
   "metadata": {},
   "outputs": [],
   "source": [
    "list_of_numbers = [1,4,65,3,4.5,746,8.464]\n",
    "list_of_sth = ['Trump','Bolsonaro','Erdogan','Duterte','Johnson','Poutine','Bouteflika']"
   ]
  },
  {
   "cell_type": "markdown",
   "metadata": {},
   "source": [
    "#### Experience 1\n",
    "\n",
    "* Try and understand each built-in functions we use (not too hard) (Python automatically write them in green)"
   ]
  },
  {
   "cell_type": "code",
   "execution_count": 63,
   "metadata": {},
   "outputs": [
    {
     "name": "stdout",
     "output_type": "stream",
     "text": [
      "7 7\n"
     ]
    }
   ],
   "source": [
    "len_1 = len(list_of_numbers)\n",
    "len_2 = len(list_of_sth)\n",
    "\n",
    "print(l_1,l_2)"
   ]
  },
  {
   "cell_type": "code",
   "execution_count": 67,
   "metadata": {},
   "outputs": [
    {
     "name": "stdout",
     "output_type": "stream",
     "text": [
      "Trump\n",
      "1\n",
      "\n",
      "What is the max of a list of word ? Damn... Please check notebook 1\n"
     ]
    }
   ],
   "source": [
    "x = max(list_of_sth)\n",
    "y = min(list_of_numbers)\n",
    "\n",
    "print(x)\n",
    "print(y)\n",
    "print()\n",
    "print(\"What is the max of a list of word ? Damn... Please check notebook 1\")"
   ]
  },
  {
   "cell_type": "code",
   "execution_count": 90,
   "metadata": {},
   "outputs": [
    {
     "name": "stdout",
     "output_type": "stream",
     "text": [
      "[1, 4, 65, 3, 4.5, 746, 8.464, 'Trump', 'Bolsonaro', 'Erdogan', 'Duterte', 'Johnson', 'Poutine', 'Bouteflika']\n"
     ]
    }
   ],
   "source": [
    "concatenated_list = list_of_numbers + list_of_sth\n",
    "print(concatenated_list)\n",
    "print(\"Using '+' operator on two list concatenates them\")"
   ]
  },
  {
   "cell_type": "code",
   "execution_count": 98,
   "metadata": {},
   "outputs": [
    {
     "name": "stdout",
     "output_type": "stream",
     "text": [
      "[1, 4, 65, 3, 4.5, 746, 8.464, 1, 4, 65, 3, 4.5, 746, 8.464, 1, 4, 65, 3, 4.5, 746, 8.464]\n",
      "Using *int_number operator duplicates it\n"
     ]
    }
   ],
   "source": [
    "q_1 = list_of_numbers*3\n",
    "print(q_1)\n",
    "print('Using *int_number operator duplicates it')"
   ]
  },
  {
   "cell_type": "markdown",
   "metadata": {},
   "source": [
    "#### Experience 2\n",
    "\n",
    "###### set, insert, pop, append, count, sort\n",
    "\n",
    "Questions 2. \n",
    "\n",
    "* Try and understand each built-in functions we use (a bit harder)\n",
    "* What's the difference with previous built-in functions ?\n",
    "* Explain the built-in functions "
   ]
  },
  {
   "cell_type": "code",
   "execution_count": 140,
   "metadata": {},
   "outputs": [],
   "source": [
    "list_of_values = [1,3,6.5,4,6.6,3,10]"
   ]
  },
  {
   "cell_type": "code",
   "execution_count": 141,
   "metadata": {},
   "outputs": [
    {
     "name": "stdout",
     "output_type": "stream",
     "text": [
      "2\n",
      "1\n",
      "0\n"
     ]
    }
   ],
   "source": [
    "print(list_of_values.count(3))\n",
    "print(list_of_values.count(10))\n",
    "print(list_of_values.count('Johnny Cash'))"
   ]
  },
  {
   "cell_type": "code",
   "execution_count": 142,
   "metadata": {},
   "outputs": [
    {
     "name": "stdout",
     "output_type": "stream",
     "text": [
      "[1, 3, 6.5, 4, 6.6, 3, 10]\n"
     ]
    }
   ],
   "source": [
    "list_of_values.sort()\n",
    "print(list_of_values)"
   ]
  },
  {
   "cell_type": "code",
   "execution_count": 143,
   "metadata": {},
   "outputs": [
    {
     "name": "stdout",
     "output_type": "stream",
     "text": [
      "{1, 3, 4, 6.5, 6.6, 10}\n"
     ]
    }
   ],
   "source": [
    "ensemble = set(list_of_values)\n",
    "print(ensemble)"
   ]
  },
  {
   "cell_type": "code",
   "execution_count": 144,
   "metadata": {},
   "outputs": [
    {
     "name": "stdout",
     "output_type": "stream",
     "text": [
      "[1, 3, 6.5, 4, 6.6, 3, 10, 5]\n"
     ]
    }
   ],
   "source": [
    "list_of_values.append(5)\n",
    "print(list_of_values)"
   ]
  },
  {
   "cell_type": "code",
   "execution_count": 145,
   "metadata": {},
   "outputs": [
    {
     "name": "stdout",
     "output_type": "stream",
     "text": [
      "[1, 3, 6.5, 4, 6.6, 3, 3, 10, 5]\n",
      "[1, 3, 6.5, 4, 6.6, 3, 3, 10, 5, 0]\n",
      "[1, 3, 6.5, 4, 6.6, 3, 3, 10, 5]\n"
     ]
    }
   ],
   "source": [
    "list_of_values.insert(5,3)\n",
    "print(list_of_values)\n",
    "\n",
    "list_of_values.insert(100,0)\n",
    "print(list_of_values)\n",
    "\n",
    "list_of_values.pop()\n",
    "print(list_of_values)"
   ]
  },
  {
   "cell_type": "code",
   "execution_count": 149,
   "metadata": {},
   "outputs": [
    {
     "name": "stdout",
     "output_type": "stream",
     "text": [
      "[1, 4, 65, 3, 4.5, 746, 8.464, ['Apple', 'Amazon', 'Nike', 'Exito', 'Petroleo', 'Dior'], ['Apple', 'Amazon', 'Nike', 'Exito', 'Petroleo', 'Dior'], ['Apple', 'Amazon', 'Nike', 'Exito', 'Petroleo', 'Dior'], ['Apple', 'Amazon', 'Nike', 'Exito', 'Petroleo', 'Dior'], ['Apple', 'Amazon', 'Nike', 'Exito', 'Petroleo', 'Dior'], ['Apple', 'Amazon', 'Nike', 'Exito', 'Petroleo', 'Dior'], ['Apple', 'Amazon', 'Nike', 'Exito', 'Petroleo', 'Dior'], ['Apple', 'Amazon', 'Nike', 'Exito', 'Petroleo', 'Dior'], ['Apple', 'Amazon', 'Nike', 'Exito', 'Petroleo', 'Dior'], ['Apple', 'Amazon', 'Nike', 'Exito', 'Petroleo', 'Dior']]\n"
     ]
    }
   ],
   "source": [
    "#Bonus \n",
    "list_of_numbers.append(list_of_companies)\n",
    "print(list_of_numbers)"
   ]
  },
  {
   "cell_type": "code",
   "execution_count": 150,
   "metadata": {},
   "outputs": [
    {
     "name": "stdout",
     "output_type": "stream",
     "text": [
      "['Apple', 'Amazon', 'Nike', 'Exito', 'Petroleo', 'Dior']\n"
     ]
    }
   ],
   "source": [
    "print(list_of_numbers[-1])"
   ]
  },
  {
   "cell_type": "markdown",
   "metadata": {},
   "source": [
    "Answers : \n",
    "\n",
    "* insert needs two argument. The first one is the index where you want to insert the second one.\n",
    "* appends \"adds\" your input at the last position\n",
    "* pop removes the last one\n",
    "* list.count(x) counts the number of time element x appears\n",
    "\n",
    "Bonus : \n",
    "1. When you use append function with a list, it add the entire list at the end.\n",
    "2. If you want to display source code of any function, you can use '??' . Check below :"
   ]
  },
  {
   "cell_type": "code",
   "execution_count": 151,
   "metadata": {},
   "outputs": [],
   "source": [
    "??list.insert"
   ]
  },
  {
   "cell_type": "markdown",
   "metadata": {},
   "source": [
    "### 3. Exercises : Draw a pyramid, get prepare for the great loop experience\n",
    "\n",
    "In the next session, you will discover list comprehensions, tubles, and loop.\n",
    "A loop in a computer program is an instruction that repeats until a specified condition is reached.\n",
    "The goal The purpose of loops is to repeat the same, or similar, code a number of times\n",
    "\n",
    "Without any knowloedge, try and understand the three following loops."
   ]
  },
  {
   "cell_type": "code",
   "execution_count": 155,
   "metadata": {},
   "outputs": [],
   "source": [
    "list_of_cities = ['Medellin','Creteil','Arpajon','Beauvais','Marseille','Bogota','New-York']"
   ]
  },
  {
   "cell_type": "markdown",
   "metadata": {},
   "source": [
    "#### Example of loop : 1"
   ]
  },
  {
   "cell_type": "code",
   "execution_count": 156,
   "metadata": {},
   "outputs": [
    {
     "name": "stdout",
     "output_type": "stream",
     "text": [
      "Medellin\n",
      "Creteil\n",
      "Arpajon\n",
      "Beauvais\n",
      "Marseille\n",
      "Bogota\n",
      "New-York\n"
     ]
    }
   ],
   "source": [
    "for name in list_of_cities:\n",
    "    print(name)"
   ]
  },
  {
   "cell_type": "markdown",
   "metadata": {},
   "source": [
    "#### Example of loop : 2"
   ]
  },
  {
   "cell_type": "code",
   "execution_count": 166,
   "metadata": {},
   "outputs": [
    {
     "name": "stdout",
     "output_type": "stream",
     "text": [
      "Medellin\n",
      "Solo me gusta la lettra M\n",
      "Solo me gusta la lettra M\n",
      "Solo me gusta la lettra M\n",
      "Marseille\n",
      "Solo me gusta la lettra M\n",
      "Solo me gusta la lettra M\n"
     ]
    }
   ],
   "source": [
    "for name in list_of_cities:\n",
    "    if name[0] == 'M':\n",
    "        print(name)\n",
    "    else:\n",
    "        print('Solo me gusta la lettra M')"
   ]
  },
  {
   "cell_type": "markdown",
   "metadata": {},
   "source": [
    "#### Example of loop : 3"
   ]
  },
  {
   "cell_type": "code",
   "execution_count": 179,
   "metadata": {},
   "outputs": [
    {
     "name": "stdout",
     "output_type": "stream",
     "text": [
      "M\n",
      "Me\n",
      "Med\n",
      "Mede\n",
      "Medel\n",
      "Medell\n",
      "Medelli\n",
      "Medellin\n",
      "\n",
      "C\n",
      "Cr\n",
      "Cre\n",
      "Cret\n",
      "Crete\n",
      "Cretei\n",
      "Creteil\n",
      "\n",
      "A\n",
      "Ar\n",
      "Arp\n",
      "Arpa\n",
      "Arpaj\n",
      "Arpajo\n",
      "Arpajon\n",
      "\n"
     ]
    }
   ],
   "source": [
    "for name in list_of_cities[:3]:\n",
    "    for index in range(len(name)):\n",
    "        print(name[:index+1])\n",
    "    print()"
   ]
  },
  {
   "cell_type": "code",
   "execution_count": 183,
   "metadata": {},
   "outputs": [
    {
     "name": "stdout",
     "output_type": "stream",
     "text": [
      "                  Keila\n",
      "                KeilaKeilaKeila\n",
      "              KeilaKeilaKeilaKeilaKeila\n",
      "            KeilaKeilaKeilaKeilaKeilaKeilaKeila\n",
      "          KeilaKeilaKeilaKeilaKeilaKeilaKeilaKeilaKeila\n",
      "        KeilaKeilaKeilaKeilaKeilaKeilaKeilaKeilaKeilaKeilaKeila\n",
      "      KeilaKeilaKeilaKeilaKeilaKeilaKeilaKeilaKeilaKeilaKeilaKeilaKeila\n",
      "    KeilaKeilaKeilaKeilaKeilaKeilaKeilaKeilaKeilaKeilaKeilaKeilaKeilaKeilaKeila\n",
      "  KeilaKeilaKeilaKeilaKeilaKeilaKeilaKeilaKeilaKeilaKeilaKeilaKeilaKeilaKeilaKeilaKeila\n",
      "KeilaKeilaKeilaKeilaKeilaKeilaKeilaKeilaKeilaKeilaKeilaKeilaKeilaKeilaKeilaKeilaKeilaKeilaKeila\n"
     ]
    }
   ],
   "source": [
    "k = 0\n",
    "rows = 10\n",
    "for i in range(1, rows+1):\n",
    "    for space in range(1, (rows-i)+1):\n",
    "        print(end=\"  \")\n",
    "    while k != (2*i-1):\n",
    "        print(\"Keila\", end=\"\")\n",
    "        k = k + 1\n",
    "    k = 0\n",
    "    print()"
   ]
  }
 ],
 "metadata": {
  "kernelspec": {
   "display_name": "lesson_1",
   "language": "python",
   "name": "lesson_1"
  },
  "language_info": {
   "codemirror_mode": {
    "name": "ipython",
    "version": 3
   },
   "file_extension": ".py",
   "mimetype": "text/x-python",
   "name": "python",
   "nbconvert_exporter": "python",
   "pygments_lexer": "ipython3",
   "version": "3.7.4"
  }
 },
 "nbformat": 4,
 "nbformat_minor": 2
}
