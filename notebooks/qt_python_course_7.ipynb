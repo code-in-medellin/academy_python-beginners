{
 "cells": [
  {
   "cell_type": "markdown",
   "metadata": {},
   "source": [
    "# Quantrack Python crash course 7."
   ]
  },
  {
   "cell_type": "markdown",
   "metadata": {},
   "source": [
    "*Pandas* is a Python package providing fast, flexible, and expressive data structures designed to make working with “relational” or “labeled” data both easy and intuitive. It aims to be the fundamental high-level building block for doing practical, real world data analysis in Python. Additionally, it has the broader goal of becoming the most powerful and flexible open source data analysis / manipulation tool available in any language. It is already well on its way toward this goal.\n",
    "\n",
    "pandas is well suited for many different kinds of data:\n",
    "\n",
    "* Tabular data with heterogeneously-typed columns, as in an SQL table or Excel spreadsheet\n",
    "\n",
    "* Ordered and unordered (not necessarily fixed-frequency) time series data.\n",
    "\n",
    "* Arbitrary matrix data (homogeneously typed or heterogeneous) with row and column labels\n",
    "\n",
    "* Any other form of observational / statistical data sets. The data actually need not be labeled at all to be placed into a pandas data structure\n",
    "\n",
    "*NumPy* is a general-purpose array-processing package. It provides a high-performance multidimensional array object, and tools for working with these arrays.\n",
    "\n",
    "It is the fundamental package for scientific computing with Python\n",
    "\n",
    "These two packages are at the core of any data-analysis project in Python"
   ]
  },
  {
   "cell_type": "markdown",
   "metadata": {},
   "source": [
    "### 1. Getting started - Object creation\n",
    "### 2. Basic commands - Part 1.\n",
    "### 3. Basic commands - Part 2."
   ]
  },
  {
   "cell_type": "markdown",
   "metadata": {},
   "source": [
    "Pandas DataFrames are composed of series. Basically, Series is a one-dimensional labeled array capable of holding any data type (integers, strings, floating point numbers, Python objects, etc.). The axis labels are collectively referred to as the index. The basic method to create a Series is to call :"
   ]
  },
  {
   "cell_type": "markdown",
   "metadata": {},
   "source": [
    "## 1. Getting Started"
   ]
  },
  {
   "cell_type": "markdown",
   "metadata": {},
   "source": [
    "Question : \n",
    "\n",
    "* Try to understand np.random command\n",
    "* What is the difference between a DataFrame and a Series ?"
   ]
  },
  {
   "cell_type": "markdown",
   "metadata": {},
   "source": [
    "We can create a Series by passing a list of values, letting pandas create a default integer index: NaN means *Missing numerical data*"
   ]
  },
  {
   "cell_type": "markdown",
   "metadata": {},
   "source": [
    "#### a. Pandas Series"
   ]
  },
  {
   "cell_type": "code",
   "execution_count": 21,
   "metadata": {},
   "outputs": [
    {
     "data": {
      "text/plain": [
       "0    1.0\n",
       "1    3.0\n",
       "2    5.0\n",
       "3    NaN\n",
       "4    6.0\n",
       "5    8.0\n",
       "dtype: float64"
      ]
     },
     "execution_count": 21,
     "metadata": {},
     "output_type": "execute_result"
    }
   ],
   "source": [
    "s = pd.Series([1, 3, 5, np.nan, 6, 8])\n",
    "s"
   ]
  },
  {
   "cell_type": "code",
   "execution_count": 22,
   "metadata": {},
   "outputs": [
    {
     "data": {
      "text/plain": [
       "a    0.935063\n",
       "b   -1.667109\n",
       "c    0.080092\n",
       "d   -1.338738\n",
       "e   -0.391146\n",
       "dtype: float64"
      ]
     },
     "execution_count": 22,
     "metadata": {},
     "output_type": "execute_result"
    }
   ],
   "source": [
    "s = pd.Series(np.random.randn(5), index=['a', 'b', 'c', 'd', 'e'])\n",
    "s"
   ]
  },
  {
   "cell_type": "code",
   "execution_count": 11,
   "metadata": {},
   "outputs": [
    {
     "data": {
      "text/plain": [
       "Index(['a', 'b', 'c', 'd', 'e'], dtype='object')"
      ]
     },
     "execution_count": 11,
     "metadata": {},
     "output_type": "execute_result"
    }
   ],
   "source": [
    "#print the index\n",
    "s.index"
   ]
  },
  {
   "cell_type": "code",
   "execution_count": 15,
   "metadata": {},
   "outputs": [
    {
     "data": {
      "text/plain": [
       "b    1\n",
       "a    0\n",
       "c    2\n",
       "dtype: int64"
      ]
     },
     "execution_count": 15,
     "metadata": {},
     "output_type": "execute_result"
    }
   ],
   "source": [
    "#Series can be instantiated from dicts:\n",
    "d = {'b': 1, 'a': 0, 'c': 2}\n",
    "s = pd.Series(d)\n",
    "s"
   ]
  },
  {
   "cell_type": "markdown",
   "metadata": {},
   "source": [
    "dtype means data-type, here the pandas series is filled with integers."
   ]
  },
  {
   "cell_type": "markdown",
   "metadata": {},
   "source": [
    "In the example above, if you were on a Python version lower than 3.6 or a Pandas version lower than 0.23, the Series would be ordered by the lexical order of the dict keys (i.e. ['a', 'b', 'c'] rather than ['b', 'a', 'c']).\n",
    "\n",
    "If an index is passed, the values in data corresponding to the labels in the index will be pulled out."
   ]
  },
  {
   "cell_type": "markdown",
   "metadata": {},
   "source": [
    "If data is a scalar value, an index must be provided. The value will be repeated to match the length of index."
   ]
  },
  {
   "cell_type": "markdown",
   "metadata": {},
   "source": [
    "#### b. Pandas Dataframes "
   ]
  },
  {
   "cell_type": "markdown",
   "metadata": {},
   "source": [
    "Let's create a DataFrame by passing a NumPy array, with a datetime index and labeled columns:\n",
    "\n",
    "1. We first create the date index\n",
    "2. We create the DataFrame"
   ]
  },
  {
   "cell_type": "code",
   "execution_count": 27,
   "metadata": {},
   "outputs": [
    {
     "name": "stdout",
     "output_type": "stream",
     "text": [
      "DatetimeIndex(['2013-01-01', '2013-01-02', '2013-01-03', '2013-01-04',\n",
      "               '2013-01-05', '2013-01-06'],\n",
      "              dtype='datetime64[ns]', freq='D')\n"
     ]
    }
   ],
   "source": [
    "#We create the index\n",
    "dates = pd.date_range('20130101', periods=6)\n",
    "print(dates)"
   ]
  },
  {
   "cell_type": "code",
   "execution_count": 28,
   "metadata": {},
   "outputs": [
    {
     "data": {
      "text/html": [
       "<div>\n",
       "<style scoped>\n",
       "    .dataframe tbody tr th:only-of-type {\n",
       "        vertical-align: middle;\n",
       "    }\n",
       "\n",
       "    .dataframe tbody tr th {\n",
       "        vertical-align: top;\n",
       "    }\n",
       "\n",
       "    .dataframe thead th {\n",
       "        text-align: right;\n",
       "    }\n",
       "</style>\n",
       "<table border=\"1\" class=\"dataframe\">\n",
       "  <thead>\n",
       "    <tr style=\"text-align: right;\">\n",
       "      <th></th>\n",
       "      <th>A</th>\n",
       "      <th>B</th>\n",
       "      <th>C</th>\n",
       "      <th>D</th>\n",
       "    </tr>\n",
       "  </thead>\n",
       "  <tbody>\n",
       "    <tr>\n",
       "      <td>2013-01-01</td>\n",
       "      <td>-1.262555</td>\n",
       "      <td>-0.694846</td>\n",
       "      <td>1.166846</td>\n",
       "      <td>0.710166</td>\n",
       "    </tr>\n",
       "    <tr>\n",
       "      <td>2013-01-02</td>\n",
       "      <td>0.447195</td>\n",
       "      <td>0.923124</td>\n",
       "      <td>-0.644863</td>\n",
       "      <td>0.583534</td>\n",
       "    </tr>\n",
       "    <tr>\n",
       "      <td>2013-01-03</td>\n",
       "      <td>-1.093509</td>\n",
       "      <td>-1.516493</td>\n",
       "      <td>-1.063032</td>\n",
       "      <td>-0.623707</td>\n",
       "    </tr>\n",
       "    <tr>\n",
       "      <td>2013-01-04</td>\n",
       "      <td>0.296014</td>\n",
       "      <td>0.121483</td>\n",
       "      <td>-1.085829</td>\n",
       "      <td>-1.144755</td>\n",
       "    </tr>\n",
       "    <tr>\n",
       "      <td>2013-01-05</td>\n",
       "      <td>-2.140108</td>\n",
       "      <td>1.364389</td>\n",
       "      <td>0.710251</td>\n",
       "      <td>-0.757226</td>\n",
       "    </tr>\n",
       "    <tr>\n",
       "      <td>2013-01-06</td>\n",
       "      <td>1.231026</td>\n",
       "      <td>-2.015137</td>\n",
       "      <td>1.036093</td>\n",
       "      <td>-0.027952</td>\n",
       "    </tr>\n",
       "  </tbody>\n",
       "</table>\n",
       "</div>"
      ],
      "text/plain": [
       "                   A         B         C         D\n",
       "2013-01-01 -1.262555 -0.694846  1.166846  0.710166\n",
       "2013-01-02  0.447195  0.923124 -0.644863  0.583534\n",
       "2013-01-03 -1.093509 -1.516493 -1.063032 -0.623707\n",
       "2013-01-04  0.296014  0.121483 -1.085829 -1.144755\n",
       "2013-01-05 -2.140108  1.364389  0.710251 -0.757226\n",
       "2013-01-06  1.231026 -2.015137  1.036093 -0.027952"
      ]
     },
     "execution_count": 28,
     "metadata": {},
     "output_type": "execute_result"
    }
   ],
   "source": [
    "df = pd.DataFrame(np.random.randn(6, 4), index=dates, columns=list('ABCD'))\n",
    "df"
   ]
  },
  {
   "cell_type": "markdown",
   "metadata": {},
   "source": [
    "## 2. Basic commands - Part 1."
   ]
  },
  {
   "cell_type": "markdown",
   "metadata": {},
   "source": [
    "Basic Pandas commands , let's use our dataframe"
   ]
  },
  {
   "cell_type": "code",
   "execution_count": 38,
   "metadata": {},
   "outputs": [
    {
     "data": {
      "text/html": [
       "<div>\n",
       "<style scoped>\n",
       "    .dataframe tbody tr th:only-of-type {\n",
       "        vertical-align: middle;\n",
       "    }\n",
       "\n",
       "    .dataframe tbody tr th {\n",
       "        vertical-align: top;\n",
       "    }\n",
       "\n",
       "    .dataframe thead th {\n",
       "        text-align: right;\n",
       "    }\n",
       "</style>\n",
       "<table border=\"1\" class=\"dataframe\">\n",
       "  <thead>\n",
       "    <tr style=\"text-align: right;\">\n",
       "      <th></th>\n",
       "      <th>A</th>\n",
       "      <th>B</th>\n",
       "      <th>C</th>\n",
       "      <th>D</th>\n",
       "    </tr>\n",
       "  </thead>\n",
       "  <tbody>\n",
       "    <tr>\n",
       "      <td>2013-01-01</td>\n",
       "      <td>-1.262555</td>\n",
       "      <td>-0.694846</td>\n",
       "      <td>1.166846</td>\n",
       "      <td>0.710166</td>\n",
       "    </tr>\n",
       "    <tr>\n",
       "      <td>2013-01-02</td>\n",
       "      <td>0.447195</td>\n",
       "      <td>0.923124</td>\n",
       "      <td>-0.644863</td>\n",
       "      <td>0.583534</td>\n",
       "    </tr>\n",
       "  </tbody>\n",
       "</table>\n",
       "</div>"
      ],
      "text/plain": [
       "                   A         B         C         D\n",
       "2013-01-01 -1.262555 -0.694846  1.166846  0.710166\n",
       "2013-01-02  0.447195  0.923124 -0.644863  0.583534"
      ]
     },
     "execution_count": 38,
     "metadata": {},
     "output_type": "execute_result"
    }
   ],
   "source": [
    "#First two lines\n",
    "df.head(2)"
   ]
  },
  {
   "cell_type": "code",
   "execution_count": 39,
   "metadata": {},
   "outputs": [
    {
     "data": {
      "text/html": [
       "<div>\n",
       "<style scoped>\n",
       "    .dataframe tbody tr th:only-of-type {\n",
       "        vertical-align: middle;\n",
       "    }\n",
       "\n",
       "    .dataframe tbody tr th {\n",
       "        vertical-align: top;\n",
       "    }\n",
       "\n",
       "    .dataframe thead th {\n",
       "        text-align: right;\n",
       "    }\n",
       "</style>\n",
       "<table border=\"1\" class=\"dataframe\">\n",
       "  <thead>\n",
       "    <tr style=\"text-align: right;\">\n",
       "      <th></th>\n",
       "      <th>A</th>\n",
       "      <th>B</th>\n",
       "      <th>C</th>\n",
       "      <th>D</th>\n",
       "    </tr>\n",
       "  </thead>\n",
       "  <tbody>\n",
       "    <tr>\n",
       "      <td>2013-01-05</td>\n",
       "      <td>-2.140108</td>\n",
       "      <td>1.364389</td>\n",
       "      <td>0.710251</td>\n",
       "      <td>-0.757226</td>\n",
       "    </tr>\n",
       "    <tr>\n",
       "      <td>2013-01-06</td>\n",
       "      <td>1.231026</td>\n",
       "      <td>-2.015137</td>\n",
       "      <td>1.036093</td>\n",
       "      <td>-0.027952</td>\n",
       "    </tr>\n",
       "  </tbody>\n",
       "</table>\n",
       "</div>"
      ],
      "text/plain": [
       "                   A         B         C         D\n",
       "2013-01-05 -2.140108  1.364389  0.710251 -0.757226\n",
       "2013-01-06  1.231026 -2.015137  1.036093 -0.027952"
      ]
     },
     "execution_count": 39,
     "metadata": {},
     "output_type": "execute_result"
    }
   ],
   "source": [
    "#Last two lines\n",
    "df.tail(2)"
   ]
  },
  {
   "cell_type": "code",
   "execution_count": 40,
   "metadata": {},
   "outputs": [
    {
     "data": {
      "text/plain": [
       "DatetimeIndex(['2013-01-01', '2013-01-02', '2013-01-03', '2013-01-04',\n",
       "               '2013-01-05', '2013-01-06'],\n",
       "              dtype='datetime64[ns]', freq='D')"
      ]
     },
     "execution_count": 40,
     "metadata": {},
     "output_type": "execute_result"
    }
   ],
   "source": [
    "#Index\n",
    "df.index"
   ]
  },
  {
   "cell_type": "code",
   "execution_count": 41,
   "metadata": {},
   "outputs": [
    {
     "data": {
      "text/plain": [
       "array([[-1.26255498, -0.69484625,  1.16684579,  0.71016614],\n",
       "       [ 0.44719522,  0.92312394, -0.64486311,  0.58353442],\n",
       "       [-1.09350873, -1.51649313, -1.0630322 , -0.62370727],\n",
       "       [ 0.29601396,  0.12148275, -1.08582877, -1.14475499],\n",
       "       [-2.14010844,  1.36438889,  0.71025066, -0.75722588],\n",
       "       [ 1.23102599, -2.01513726,  1.03609326, -0.02795175]])"
      ]
     },
     "execution_count": 41,
     "metadata": {},
     "output_type": "execute_result"
    }
   ],
   "source": [
    "#Conversion to numpy array\n",
    "df.to_numpy()"
   ]
  },
  {
   "cell_type": "markdown",
   "metadata": {},
   "source": [
    "#### Difference between NumPy and Pandas\n",
    "\n",
    "NumPy is a more basic library that provides the building blocks of array based data manipulation. Pandas works to provide a streamlined way to use this functionality.\n",
    "\n",
    "They are not alternatives like many people seem to think, and I highly recommend using both. NumPy is essential for all work you do with data, and arrays appear to work much faster then pandas DataFrames. Also, packages like tensorflow -for AI- can only be fed arrays and not pandas objects."
   ]
  },
  {
   "cell_type": "markdown",
   "metadata": {},
   "source": [
    "#### Basic statistics"
   ]
  },
  {
   "cell_type": "code",
   "execution_count": 42,
   "metadata": {},
   "outputs": [
    {
     "data": {
      "text/html": [
       "<div>\n",
       "<style scoped>\n",
       "    .dataframe tbody tr th:only-of-type {\n",
       "        vertical-align: middle;\n",
       "    }\n",
       "\n",
       "    .dataframe tbody tr th {\n",
       "        vertical-align: top;\n",
       "    }\n",
       "\n",
       "    .dataframe thead th {\n",
       "        text-align: right;\n",
       "    }\n",
       "</style>\n",
       "<table border=\"1\" class=\"dataframe\">\n",
       "  <thead>\n",
       "    <tr style=\"text-align: right;\">\n",
       "      <th></th>\n",
       "      <th>A</th>\n",
       "      <th>B</th>\n",
       "      <th>C</th>\n",
       "      <th>D</th>\n",
       "    </tr>\n",
       "  </thead>\n",
       "  <tbody>\n",
       "    <tr>\n",
       "      <td>count</td>\n",
       "      <td>6.000000</td>\n",
       "      <td>6.000000</td>\n",
       "      <td>6.000000</td>\n",
       "      <td>6.000000</td>\n",
       "    </tr>\n",
       "    <tr>\n",
       "      <td>mean</td>\n",
       "      <td>-0.420323</td>\n",
       "      <td>-0.302914</td>\n",
       "      <td>0.019911</td>\n",
       "      <td>-0.209990</td>\n",
       "    </tr>\n",
       "    <tr>\n",
       "      <td>std</td>\n",
       "      <td>1.273803</td>\n",
       "      <td>1.343226</td>\n",
       "      <td>1.064143</td>\n",
       "      <td>0.755503</td>\n",
       "    </tr>\n",
       "    <tr>\n",
       "      <td>min</td>\n",
       "      <td>-2.140108</td>\n",
       "      <td>-2.015137</td>\n",
       "      <td>-1.085829</td>\n",
       "      <td>-1.144755</td>\n",
       "    </tr>\n",
       "    <tr>\n",
       "      <td>25%</td>\n",
       "      <td>-1.220293</td>\n",
       "      <td>-1.311081</td>\n",
       "      <td>-0.958490</td>\n",
       "      <td>-0.723846</td>\n",
       "    </tr>\n",
       "    <tr>\n",
       "      <td>50%</td>\n",
       "      <td>-0.398747</td>\n",
       "      <td>-0.286682</td>\n",
       "      <td>0.032694</td>\n",
       "      <td>-0.325830</td>\n",
       "    </tr>\n",
       "    <tr>\n",
       "      <td>75%</td>\n",
       "      <td>0.409400</td>\n",
       "      <td>0.722714</td>\n",
       "      <td>0.954633</td>\n",
       "      <td>0.430663</td>\n",
       "    </tr>\n",
       "    <tr>\n",
       "      <td>max</td>\n",
       "      <td>1.231026</td>\n",
       "      <td>1.364389</td>\n",
       "      <td>1.166846</td>\n",
       "      <td>0.710166</td>\n",
       "    </tr>\n",
       "  </tbody>\n",
       "</table>\n",
       "</div>"
      ],
      "text/plain": [
       "              A         B         C         D\n",
       "count  6.000000  6.000000  6.000000  6.000000\n",
       "mean  -0.420323 -0.302914  0.019911 -0.209990\n",
       "std    1.273803  1.343226  1.064143  0.755503\n",
       "min   -2.140108 -2.015137 -1.085829 -1.144755\n",
       "25%   -1.220293 -1.311081 -0.958490 -0.723846\n",
       "50%   -0.398747 -0.286682  0.032694 -0.325830\n",
       "75%    0.409400  0.722714  0.954633  0.430663\n",
       "max    1.231026  1.364389  1.166846  0.710166"
      ]
     },
     "execution_count": 42,
     "metadata": {},
     "output_type": "execute_result"
    }
   ],
   "source": [
    "df.describe()"
   ]
  },
  {
   "cell_type": "code",
   "execution_count": 43,
   "metadata": {},
   "outputs": [
    {
     "data": {
      "text/html": [
       "<div>\n",
       "<style scoped>\n",
       "    .dataframe tbody tr th:only-of-type {\n",
       "        vertical-align: middle;\n",
       "    }\n",
       "\n",
       "    .dataframe tbody tr th {\n",
       "        vertical-align: top;\n",
       "    }\n",
       "\n",
       "    .dataframe thead th {\n",
       "        text-align: right;\n",
       "    }\n",
       "</style>\n",
       "<table border=\"1\" class=\"dataframe\">\n",
       "  <thead>\n",
       "    <tr style=\"text-align: right;\">\n",
       "      <th></th>\n",
       "      <th>2013-01-01</th>\n",
       "      <th>2013-01-02</th>\n",
       "      <th>2013-01-03</th>\n",
       "      <th>2013-01-04</th>\n",
       "      <th>2013-01-05</th>\n",
       "      <th>2013-01-06</th>\n",
       "    </tr>\n",
       "  </thead>\n",
       "  <tbody>\n",
       "    <tr>\n",
       "      <td>A</td>\n",
       "      <td>-1.262555</td>\n",
       "      <td>0.447195</td>\n",
       "      <td>-1.093509</td>\n",
       "      <td>0.296014</td>\n",
       "      <td>-2.140108</td>\n",
       "      <td>1.231026</td>\n",
       "    </tr>\n",
       "    <tr>\n",
       "      <td>B</td>\n",
       "      <td>-0.694846</td>\n",
       "      <td>0.923124</td>\n",
       "      <td>-1.516493</td>\n",
       "      <td>0.121483</td>\n",
       "      <td>1.364389</td>\n",
       "      <td>-2.015137</td>\n",
       "    </tr>\n",
       "    <tr>\n",
       "      <td>C</td>\n",
       "      <td>1.166846</td>\n",
       "      <td>-0.644863</td>\n",
       "      <td>-1.063032</td>\n",
       "      <td>-1.085829</td>\n",
       "      <td>0.710251</td>\n",
       "      <td>1.036093</td>\n",
       "    </tr>\n",
       "    <tr>\n",
       "      <td>D</td>\n",
       "      <td>0.710166</td>\n",
       "      <td>0.583534</td>\n",
       "      <td>-0.623707</td>\n",
       "      <td>-1.144755</td>\n",
       "      <td>-0.757226</td>\n",
       "      <td>-0.027952</td>\n",
       "    </tr>\n",
       "  </tbody>\n",
       "</table>\n",
       "</div>"
      ],
      "text/plain": [
       "   2013-01-01  2013-01-02  2013-01-03  2013-01-04  2013-01-05  2013-01-06\n",
       "A   -1.262555    0.447195   -1.093509    0.296014   -2.140108    1.231026\n",
       "B   -0.694846    0.923124   -1.516493    0.121483    1.364389   -2.015137\n",
       "C    1.166846   -0.644863   -1.063032   -1.085829    0.710251    1.036093\n",
       "D    0.710166    0.583534   -0.623707   -1.144755   -0.757226   -0.027952"
      ]
     },
     "execution_count": 43,
     "metadata": {},
     "output_type": "execute_result"
    }
   ],
   "source": [
    "#transposing your data\n",
    "df.T"
   ]
  },
  {
   "cell_type": "markdown",
   "metadata": {},
   "source": [
    "## Basic commands - Part 2."
   ]
  },
  {
   "cell_type": "code",
   "execution_count": 44,
   "metadata": {},
   "outputs": [
    {
     "data": {
      "text/plain": [
       "2013-01-01   -1.262555\n",
       "2013-01-02    0.447195\n",
       "2013-01-03   -1.093509\n",
       "2013-01-04    0.296014\n",
       "2013-01-05   -2.140108\n",
       "2013-01-06    1.231026\n",
       "Freq: D, Name: A, dtype: float64"
      ]
     },
     "execution_count": 44,
     "metadata": {},
     "output_type": "execute_result"
    }
   ],
   "source": [
    "#select one column\n",
    "df['A']"
   ]
  },
  {
   "cell_type": "code",
   "execution_count": 45,
   "metadata": {},
   "outputs": [
    {
     "data": {
      "text/html": [
       "<div>\n",
       "<style scoped>\n",
       "    .dataframe tbody tr th:only-of-type {\n",
       "        vertical-align: middle;\n",
       "    }\n",
       "\n",
       "    .dataframe tbody tr th {\n",
       "        vertical-align: top;\n",
       "    }\n",
       "\n",
       "    .dataframe thead th {\n",
       "        text-align: right;\n",
       "    }\n",
       "</style>\n",
       "<table border=\"1\" class=\"dataframe\">\n",
       "  <thead>\n",
       "    <tr style=\"text-align: right;\">\n",
       "      <th></th>\n",
       "      <th>A</th>\n",
       "      <th>B</th>\n",
       "      <th>C</th>\n",
       "      <th>D</th>\n",
       "    </tr>\n",
       "  </thead>\n",
       "  <tbody>\n",
       "    <tr>\n",
       "      <td>2013-01-01</td>\n",
       "      <td>-1.262555</td>\n",
       "      <td>-0.694846</td>\n",
       "      <td>1.166846</td>\n",
       "      <td>0.710166</td>\n",
       "    </tr>\n",
       "    <tr>\n",
       "      <td>2013-01-02</td>\n",
       "      <td>0.447195</td>\n",
       "      <td>0.923124</td>\n",
       "      <td>-0.644863</td>\n",
       "      <td>0.583534</td>\n",
       "    </tr>\n",
       "    <tr>\n",
       "      <td>2013-01-03</td>\n",
       "      <td>-1.093509</td>\n",
       "      <td>-1.516493</td>\n",
       "      <td>-1.063032</td>\n",
       "      <td>-0.623707</td>\n",
       "    </tr>\n",
       "  </tbody>\n",
       "</table>\n",
       "</div>"
      ],
      "text/plain": [
       "                   A         B         C         D\n",
       "2013-01-01 -1.262555 -0.694846  1.166846  0.710166\n",
       "2013-01-02  0.447195  0.923124 -0.644863  0.583534\n",
       "2013-01-03 -1.093509 -1.516493 -1.063032 -0.623707"
      ]
     },
     "execution_count": 45,
     "metadata": {},
     "output_type": "execute_result"
    }
   ],
   "source": [
    "#Slicing\n",
    "df[0:3]"
   ]
  },
  {
   "cell_type": "markdown",
   "metadata": {},
   "source": [
    "#### Selection by label"
   ]
  },
  {
   "cell_type": "code",
   "execution_count": 46,
   "metadata": {},
   "outputs": [
    {
     "data": {
      "text/plain": [
       "A   -1.262555\n",
       "B   -0.694846\n",
       "C    1.166846\n",
       "D    0.710166\n",
       "Name: 2013-01-01 00:00:00, dtype: float64"
      ]
     },
     "execution_count": 46,
     "metadata": {},
     "output_type": "execute_result"
    }
   ],
   "source": [
    "#For getting a cross section using a label:\n",
    "df.loc[dates[0]]"
   ]
  },
  {
   "cell_type": "code",
   "execution_count": 47,
   "metadata": {},
   "outputs": [
    {
     "data": {
      "text/html": [
       "<div>\n",
       "<style scoped>\n",
       "    .dataframe tbody tr th:only-of-type {\n",
       "        vertical-align: middle;\n",
       "    }\n",
       "\n",
       "    .dataframe tbody tr th {\n",
       "        vertical-align: top;\n",
       "    }\n",
       "\n",
       "    .dataframe thead th {\n",
       "        text-align: right;\n",
       "    }\n",
       "</style>\n",
       "<table border=\"1\" class=\"dataframe\">\n",
       "  <thead>\n",
       "    <tr style=\"text-align: right;\">\n",
       "      <th></th>\n",
       "      <th>A</th>\n",
       "      <th>B</th>\n",
       "    </tr>\n",
       "  </thead>\n",
       "  <tbody>\n",
       "    <tr>\n",
       "      <td>2013-01-01</td>\n",
       "      <td>-1.262555</td>\n",
       "      <td>-0.694846</td>\n",
       "    </tr>\n",
       "    <tr>\n",
       "      <td>2013-01-02</td>\n",
       "      <td>0.447195</td>\n",
       "      <td>0.923124</td>\n",
       "    </tr>\n",
       "    <tr>\n",
       "      <td>2013-01-03</td>\n",
       "      <td>-1.093509</td>\n",
       "      <td>-1.516493</td>\n",
       "    </tr>\n",
       "    <tr>\n",
       "      <td>2013-01-04</td>\n",
       "      <td>0.296014</td>\n",
       "      <td>0.121483</td>\n",
       "    </tr>\n",
       "    <tr>\n",
       "      <td>2013-01-05</td>\n",
       "      <td>-2.140108</td>\n",
       "      <td>1.364389</td>\n",
       "    </tr>\n",
       "    <tr>\n",
       "      <td>2013-01-06</td>\n",
       "      <td>1.231026</td>\n",
       "      <td>-2.015137</td>\n",
       "    </tr>\n",
       "  </tbody>\n",
       "</table>\n",
       "</div>"
      ],
      "text/plain": [
       "                   A         B\n",
       "2013-01-01 -1.262555 -0.694846\n",
       "2013-01-02  0.447195  0.923124\n",
       "2013-01-03 -1.093509 -1.516493\n",
       "2013-01-04  0.296014  0.121483\n",
       "2013-01-05 -2.140108  1.364389\n",
       "2013-01-06  1.231026 -2.015137"
      ]
     },
     "execution_count": 47,
     "metadata": {},
     "output_type": "execute_result"
    }
   ],
   "source": [
    "#Selecting on a multi-axis by label:\n",
    "df.loc[:, ['A', 'B']]"
   ]
  },
  {
   "cell_type": "markdown",
   "metadata": {},
   "source": [
    "#### Selection by position"
   ]
  },
  {
   "cell_type": "code",
   "execution_count": 52,
   "metadata": {},
   "outputs": [
    {
     "name": "stdout",
     "output_type": "stream",
     "text": [
      "A    0.296014\n",
      "B    0.121483\n",
      "C   -1.085829\n",
      "D   -1.144755\n",
      "Name: 2013-01-04 00:00:00, dtype: float64\n",
      "\n",
      "A   -2.140108\n",
      "B    1.364389\n",
      "C    0.710251\n",
      "D   -0.757226\n",
      "Name: 2013-01-05 00:00:00, dtype: float64\n",
      "\n",
      "A   -1.262555\n",
      "B   -0.694846\n",
      "C    1.166846\n",
      "D    0.710166\n",
      "Name: 2013-01-01 00:00:00, dtype: float64\n"
     ]
    }
   ],
   "source": [
    "#Select via the position of the passed integers\n",
    "print(df.iloc[3])\n",
    "print()\n",
    "print(df.iloc[4])\n",
    "print()\n",
    "print(df.iloc[0])"
   ]
  }
 ],
 "metadata": {
  "kernelspec": {
   "display_name": "Python 3",
   "language": "python",
   "name": "python3"
  },
  "language_info": {
   "codemirror_mode": {
    "name": "ipython",
    "version": 3
   },
   "file_extension": ".py",
   "mimetype": "text/x-python",
   "name": "python",
   "nbconvert_exporter": "python",
   "pygments_lexer": "ipython3",
   "version": "3.7.4"
  }
 },
 "nbformat": 4,
 "nbformat_minor": 2
}
