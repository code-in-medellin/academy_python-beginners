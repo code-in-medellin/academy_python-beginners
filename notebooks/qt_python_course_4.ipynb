{
 "cells": [
  {
   "cell_type": "markdown",
   "metadata": {},
   "source": [
    "# Quantrack Python crash course 4."
   ]
  },
  {
   "cell_type": "markdown",
   "metadata": {},
   "source": [
    "A function is a block of organized, reusable code that is used to perform a single, related action. Functions provide better modularity for your application and a high degree of code reusing.\n",
    "\n",
    "As you already know, Python gives you many built-in functions like print(), etc. but you can also create your own functions. **These functions are called user-defined functions.**"
   ]
  },
  {
   "cell_type": "markdown",
   "metadata": {},
   "source": [
    "Defining a Function\n",
    "You can define functions to provide the required functionality. Here are simple rules to define a function in Python:  \n",
    "\n",
    "* Function blocks begin with the keyword def followed by the function name and parentheses ( ( ) ).\n",
    "\n",
    "* Any input parameters or arguments should be placed within these parentheses. You can also define parameters inside these parentheses.\n",
    "\n",
    "* The first statement of a function can be an optional statement - the documentation string of the function or docstring.\n",
    "\n",
    "* The code block within every function starts with a colon (:) and is indented.\n",
    "\n",
    "* The statement return [expression] exits a function, optionally passing back an expression to the caller. A return statement with no arguments is the same as return None."
   ]
  },
  {
   "cell_type": "markdown",
   "metadata": {},
   "source": [
    "### 1. What are functions - Syntax in Python \n",
    "### 2. Calling a function in Python\n",
    "### 3. Exercises\n",
    "       Most explanations are in the comments written within the solutions"
   ]
  },
  {
   "cell_type": "markdown",
   "metadata": {},
   "source": [
    "## 1. What are functions - Syntax in Python"
   ]
  },
  {
   "cell_type": "markdown",
   "metadata": {},
   "source": [
    "Functions are a convenient way to divide your code into useful blocks, allowing us to order our code, make it more readable, reuse it and save some time. Also functions are a key way to define interfaces so programmers can share their code.  \n",
    "\n",
    "Where a block line is more Python code (even another block), and the block head is of the following format: block_keyword block_name(argument1,argument2, ...) Block keywords you already know are \"if\", \"for\", and \"while\".\n",
    "\n",
    "Functions in python are defined using the block keyword \"def\", followed with the function's name as the block's name. For example:"
   ]
  },
  {
   "cell_type": "code",
   "execution_count": 1,
   "metadata": {},
   "outputs": [],
   "source": [
    "def your_first_function():\n",
    "    print(\"I am a proud beginner in Python\")\n",
    "    print(\"One day I will code crazy algorithms\")\n",
    "    print(\"Cause this is my destiny\")"
   ]
  },
  {
   "cell_type": "code",
   "execution_count": 2,
   "metadata": {},
   "outputs": [],
   "source": [
    "your_first_function()"
   ]
  },
  {
   "cell_type": "markdown",
   "metadata": {},
   "source": [
    "In this case, our function did not receive any arguments and just executes some print statements"
   ]
  },
  {
   "cell_type": "markdown",
   "metadata": {},
   "source": [
    "## 2. Calling a function in Python"
   ]
  },
  {
   "cell_type": "code",
   "execution_count": 3,
   "metadata": {},
   "outputs": [],
   "source": [
    "def write_somebody_name(name):\n",
    "    print(name)\n",
    "    \n",
    "write_somebody_name('Keila')\n",
    "write_somebody_name('Jair Bolsonaro')\n",
    "write_somebody_name('Florian Thauvin')"
   ]
  },
  {
   "cell_type": "markdown",
   "metadata": {},
   "source": [
    "Our function needs one argument to return some results. The argument is a string. If we do not pass the argument, Python will raise an error : *TypeError: write_somebody_name() missing 1 required positional argument: 'name'*  \n",
    "\n",
    "You can try it below by decommenting the line (remove the #)"
   ]
  },
  {
   "cell_type": "code",
   "execution_count": 4,
   "metadata": {},
   "outputs": [],
   "source": [
    "#write_somebody_name()"
   ]
  },
  {
   "cell_type": "markdown",
   "metadata": {},
   "source": [
    "When we want to clearly defin the result of a function, we use the **return** statement :"
   ]
  },
  {
   "cell_type": "code",
   "execution_count": 5,
   "metadata": {},
   "outputs": [],
   "source": [
    "def get_first_letter(name):\n",
    "    first_letter = name[0]\n",
    "    return first_letter\n",
    "\n",
    "x = get_first_letter('Zidane')\n",
    "z = get_first_letter('Maradona')\n",
    "y = get_first_letter('Pele')\n",
    "\n",
    "\n",
    "print(x,y,z)"
   ]
  },
  {
   "cell_type": "markdown",
   "metadata": {},
   "source": [
    "Finally, how do you call functions in Python?\n",
    "\n",
    "Simply write the function's name followed by (), placing any required arguments within the brackets. For example,   lets call the functions written above (in the previous example):"
   ]
  },
  {
   "cell_type": "code",
   "execution_count": 6,
   "metadata": {},
   "outputs": [],
   "source": [
    "def sum_two_numbers(a, b):\n",
    "    return a + b\n",
    "\n",
    "u = sum_two_numbers(10,20)\n",
    "u"
   ]
  },
  {
   "cell_type": "markdown",
   "metadata": {},
   "source": [
    "Note that we can write a for loop within a function"
   ]
  },
  {
   "cell_type": "code",
   "execution_count": 7,
   "metadata": {},
   "outputs": [],
   "source": [
    "#This function retrieves all element < 10 from a list:\n",
    "\n",
    "def filter_inf_10(list_of_numbers):\n",
    "    #we first create an empty list\n",
    "    list_inf_10 = []\n",
    "    for element in list_of_numbers:\n",
    "        #for each iteration\n",
    "        #we write the condition < 10\n",
    "        if element < 10:\n",
    "            #for each iteration, if the element is < 10\n",
    "            #we add the element to our empty list using append function\n",
    "            list_inf_10.append(element)\n",
    "    \n",
    "    #the function returns our list now filled with element < 10\n",
    "    return list_inf_10"
   ]
  },
  {
   "cell_type": "markdown",
   "metadata": {},
   "source": [
    "#### Let's test our function"
   ]
  },
  {
   "cell_type": "code",
   "execution_count": 8,
   "metadata": {},
   "outputs": [],
   "source": [
    "#Function testing :\n",
    "\n",
    "test_list_1 = [1,100,32,10,3,4,10938]\n",
    "test_list_2 = [3,5,52,5.4,10,4,7]\n",
    "test_list_3 = [2,4,6,8,16,32,64,128,256,512]\n",
    "\n",
    "test_result_1 = filter_inf_10(test_list_1)\n",
    "test_result_2 = filter_inf_10(test_list_2)\n",
    "test_result_3 = filter_inf_10(test_list_3)"
   ]
  },
  {
   "cell_type": "code",
   "execution_count": 9,
   "metadata": {},
   "outputs": [
    {
     "name": "stdout",
     "output_type": "stream",
     "text": [
      "[1, 3, 4]\n",
      "[3, 5, 5.4, 4, 7]\n",
      "[2, 4, 6, 8]\n",
      "\n",
      "It filters out any element < 10\n"
     ]
    }
   ],
   "source": [
    "print(test_result_1)\n",
    "print(test_result_2)\n",
    "print(test_result_3)\n",
    "\n",
    "print()\n",
    "print(\"It filters out any element < 10\")"
   ]
  },
  {
   "cell_type": "markdown",
   "metadata": {},
   "source": [
    "## 3. Exercises "
   ]
  },
  {
   "cell_type": "markdown",
   "metadata": {},
   "source": [
    "### a. Write a Python function to find the Max of three numbers\n",
    "Think about Python built-in functions\n",
    "### b. Write a Python function to sum all the numbers in a list\n",
    "Use one of the functions we defined in this notebook\n",
    "### c. Write a Python program to reverse a string\n",
    "Use notebooks 1 and 2 to generate reverse strings\n",
    "### d. Write a Python function that takes a list and returns a new list with unique elements of the first list  \n",
    "Use set built-in Python function."
   ]
  },
  {
   "cell_type": "markdown",
   "metadata": {},
   "source": [
    "### **Solutions**"
   ]
  },
  {
   "cell_type": "markdown",
   "metadata": {},
   "source": [
    "### a.  Max of three numbers"
   ]
  },
  {
   "cell_type": "code",
   "execution_count": 10,
   "metadata": {},
   "outputs": [],
   "source": [
    "#easy way\n",
    "def max_three_numbers(a,b,c):\n",
    "    #we create a list with these three numbers\n",
    "    list_ = [a,b,c]\n",
    "    #we simply return the max using Python max built-in max function\n",
    "    return max(list_)\n",
    "\n",
    "#worst-way\n",
    "def max_three_numbers_bis(a,b,c):\n",
    "    if a > b and a > c:\n",
    "        return a\n",
    "    if b > a and b > c:\n",
    "        return b\n",
    "    if c > a and c > b:\n",
    "        return c  "
   ]
  },
  {
   "cell_type": "markdown",
   "metadata": {},
   "source": [
    "##### Tests"
   ]
  },
  {
   "cell_type": "code",
   "execution_count": 11,
   "metadata": {},
   "outputs": [
    {
     "name": "stdout",
     "output_type": "stream",
     "text": [
      "45\n",
      "100\n",
      "2098428\n"
     ]
    }
   ],
   "source": [
    "print(max_three_numbers(10,20,45))\n",
    "print(max_three_numbers(100,20,45))\n",
    "print(max_three_numbers(1230,2.0353,2098428))"
   ]
  },
  {
   "cell_type": "code",
   "execution_count": 12,
   "metadata": {},
   "outputs": [
    {
     "name": "stdout",
     "output_type": "stream",
     "text": [
      "45\n",
      "100\n",
      "2098428\n"
     ]
    }
   ],
   "source": [
    "print(max_three_numbers_bis(10,20,45))\n",
    "print(max_three_numbers_bis(100,20,45))\n",
    "print(max_three_numbers_bis(1230,2.0353,2098428))  "
   ]
  },
  {
   "cell_type": "markdown",
   "metadata": {},
   "source": [
    "### b. Sum in lists"
   ]
  },
  {
   "cell_type": "code",
   "execution_count": 13,
   "metadata": {},
   "outputs": [],
   "source": [
    "#Very easy way\n",
    "def sum_list(mylist):\n",
    "    s = sum(mylist)\n",
    "    return s\n",
    "\n",
    "#Bad way, with for loop\n",
    "def sum_list_bis(mylist):\n",
    "    #we initialize the value\n",
    "    s = 0\n",
    "    for element in mylist:\n",
    "        #at each iteration, we add the value of the element we are iterating on\n",
    "        s = s + element\n",
    "    return s"
   ]
  },
  {
   "cell_type": "code",
   "execution_count": 14,
   "metadata": {},
   "outputs": [],
   "source": [
    "test_list_1 = [1,4,65,35,3,3]\n",
    "test_list_2 = [0,0,0,0,1]\n",
    "test_list_3 = [1,2,3,4,5]"
   ]
  },
  {
   "cell_type": "markdown",
   "metadata": {},
   "source": [
    "##### Tests"
   ]
  },
  {
   "cell_type": "code",
   "execution_count": 15,
   "metadata": {},
   "outputs": [
    {
     "name": "stdout",
     "output_type": "stream",
     "text": [
      "111\n",
      "1\n",
      "15\n"
     ]
    }
   ],
   "source": [
    "print(sum_list(test_list_1))\n",
    "print(sum_list(test_list_2))\n",
    "print(sum_list(test_list_3))"
   ]
  },
  {
   "cell_type": "code",
   "execution_count": 16,
   "metadata": {},
   "outputs": [
    {
     "name": "stdout",
     "output_type": "stream",
     "text": [
      "111\n",
      "1\n",
      "15\n"
     ]
    }
   ],
   "source": [
    "print(sum_list_bis(test_list_1))\n",
    "print(sum_list_bis(test_list_2))\n",
    "print(sum_list_bis(test_list_3))"
   ]
  },
  {
   "cell_type": "markdown",
   "metadata": {},
   "source": [
    "### c. Reverse a string\n",
    "\n",
    "We've seen in the previous notebooks that it was easy to retrieve a reversed string, let's use it"
   ]
  },
  {
   "cell_type": "code",
   "execution_count": 17,
   "metadata": {},
   "outputs": [
    {
     "name": "stdout",
     "output_type": "stream",
     "text": [
      "nílledeM\n",
      "\n",
      "Now we can turn it into a function\n"
     ]
    }
   ],
   "source": [
    "my_string = 'Medellín'\n",
    "my_reverse_string = my_string[::-1]\n",
    "\n",
    "print(my_reverse_string)\n",
    "print()\n",
    "print('Now we can turn it into a function')"
   ]
  },
  {
   "cell_type": "code",
   "execution_count": 18,
   "metadata": {},
   "outputs": [],
   "source": [
    "def reverse_string(string):\n",
    "    #that's that simple\n",
    "    return string[::-1]"
   ]
  },
  {
   "cell_type": "markdown",
   "metadata": {},
   "source": [
    "##### Tests"
   ]
  },
  {
   "cell_type": "code",
   "execution_count": 19,
   "metadata": {},
   "outputs": [],
   "source": [
    "test_string_1 = 'Medellín'\n",
    "test_string_2 = 'Laureles'\n",
    "test_string_3 = 'Créteil'"
   ]
  },
  {
   "cell_type": "code",
   "execution_count": 20,
   "metadata": {},
   "outputs": [
    {
     "name": "stdout",
     "output_type": "stream",
     "text": [
      "nílledeM\n",
      "seleruaL\n",
      "lietérC\n"
     ]
    }
   ],
   "source": [
    "print(reverse_string(test_string_1))\n",
    "print(reverse_string(test_string_2))\n",
    "print(reverse_string(test_string_3))"
   ]
  },
  {
   "cell_type": "markdown",
   "metadata": {},
   "source": [
    "Note that I am using the print statement, but we can easily stock these values in memory as for any other variables "
   ]
  },
  {
   "cell_type": "code",
   "execution_count": 21,
   "metadata": {},
   "outputs": [],
   "source": [
    "string_to_stock_1 = reverse_string(test_string_1)\n",
    "string_to_stock_2 = reverse_string(test_string_2)\n",
    "string_to_stock_3 = reverse_string(test_string_3)"
   ]
  },
  {
   "cell_type": "code",
   "execution_count": 22,
   "metadata": {},
   "outputs": [
    {
     "data": {
      "text/plain": [
       "'nílledeM'"
      ]
     },
     "execution_count": 22,
     "metadata": {},
     "output_type": "execute_result"
    }
   ],
   "source": [
    "string_to_stock_1"
   ]
  },
  {
   "cell_type": "markdown",
   "metadata": {},
   "source": [
    "### d. Unique element of the lists \n",
    "\n",
    "In nb.2 , we've seen *set* built-in function. Let's use it.\n",
    "Note that we want the output to be a **list**"
   ]
  },
  {
   "cell_type": "code",
   "execution_count": 23,
   "metadata": {},
   "outputs": [],
   "source": [
    "def _unique_elements(mylist):\n",
    "    set_unique = set(mylist)\n",
    "    return set_unique"
   ]
  },
  {
   "cell_type": "code",
   "execution_count": 24,
   "metadata": {},
   "outputs": [],
   "source": [
    "test_list = [1,2,54,1,3,2,54,1,3,65,54]"
   ]
  },
  {
   "cell_type": "code",
   "execution_count": 25,
   "metadata": {},
   "outputs": [
    {
     "data": {
      "text/plain": [
       "{1, 2, 3, 54, 65}"
      ]
     },
     "execution_count": 25,
     "metadata": {},
     "output_type": "execute_result"
    }
   ],
   "source": [
    "_unique_elements(test_list)"
   ]
  },
  {
   "cell_type": "markdown",
   "metadata": {},
   "source": [
    "This function is not correct, why ?\n",
    "We want a new **list** with unique elements of the first list. The result of this function would be a *set*, where element do not have order. In Python we can easily convert some types of data into a list."
   ]
  },
  {
   "cell_type": "code",
   "execution_count": 26,
   "metadata": {},
   "outputs": [],
   "source": [
    "def unique_elements(mylist):\n",
    "    set_unique = set(mylist)\n",
    "    #we add a conversion line\n",
    "    list_unique = list(set_unique)\n",
    "    return list_unique"
   ]
  },
  {
   "cell_type": "code",
   "execution_count": 27,
   "metadata": {},
   "outputs": [
    {
     "data": {
      "text/plain": [
       "[65, 1, 2, 3, 54]"
      ]
     },
     "execution_count": 27,
     "metadata": {},
     "output_type": "execute_result"
    }
   ],
   "source": [
    "unique_elements(test_list)"
   ]
  },
  {
   "cell_type": "markdown",
   "metadata": {},
   "source": [
    "Now we have a **list** . We can easily order element using *sorted* built-in function."
   ]
  },
  {
   "cell_type": "code",
   "execution_count": 28,
   "metadata": {},
   "outputs": [],
   "source": [
    "#the good way\n",
    "def unique_elements(mylist):\n",
    "    set_unique = set(mylist)\n",
    "    \n",
    "    #we add a conversion line\n",
    "    list_unique = list(set_unique)\n",
    "    \n",
    "    #we sort the element of our list\n",
    "    list_unique_sorted = sorted(list_unique)\n",
    "    return list_unique_sorted\n",
    "\n",
    "#we can also use a for loop, not-so-good\n",
    "def unique_elements_bis(mylist):\n",
    "    #we create an empty list \n",
    "    list_unique = []\n",
    "    for number in mylist:\n",
    "        #if the number not in our list_unique we created\n",
    "        if number not in list_unique:\n",
    "            #we add it\n",
    "            list_unique.append(number)\n",
    "            \n",
    "    return list_unique"
   ]
  },
  {
   "cell_type": "markdown",
   "metadata": {},
   "source": [
    "##### Tests"
   ]
  },
  {
   "cell_type": "code",
   "execution_count": 29,
   "metadata": {},
   "outputs": [],
   "source": [
    "test_list_1 = [1,2,3,3,4,76,87,3,2]\n",
    "test_list_2 = [1,1,1,1,1,1,1,1,1,1]\n",
    "test_list_3 = [1,2,43.5,1/3,0.5,1/2]"
   ]
  },
  {
   "cell_type": "code",
   "execution_count": 30,
   "metadata": {},
   "outputs": [
    {
     "name": "stdout",
     "output_type": "stream",
     "text": [
      "[1, 2, 3, 4, 76, 87]\n",
      "[1]\n",
      "[0.3333333333333333, 0.5, 1, 2, 43.5]\n"
     ]
    }
   ],
   "source": [
    "print(unique_elements(test_list_1))\n",
    "print(unique_elements(test_list_2))\n",
    "print(unique_elements(test_list_3))"
   ]
  },
  {
   "cell_type": "code",
   "execution_count": 31,
   "metadata": {},
   "outputs": [
    {
     "name": "stdout",
     "output_type": "stream",
     "text": [
      "[1, 2, 3, 4, 76, 87]\n",
      "[1]\n",
      "[1, 2, 43.5, 0.3333333333333333, 0.5]\n"
     ]
    }
   ],
   "source": [
    "print(unique_elements_bis(test_list_1))\n",
    "print(unique_elements_bis(test_list_2))\n",
    "print(unique_elements_bis(test_list_3))"
   ]
  }
 ],
 "metadata": {
  "kernelspec": {
   "display_name": "Python 3",
   "language": "python",
   "name": "python3"
  },
  "language_info": {
   "codemirror_mode": {
    "name": "ipython",
    "version": 3
   },
   "file_extension": ".py",
   "mimetype": "text/x-python",
   "name": "python",
   "nbconvert_exporter": "python",
   "pygments_lexer": "ipython3",
   "version": "3.7.4"
  }
 },
 "nbformat": 4,
 "nbformat_minor": 2
}
