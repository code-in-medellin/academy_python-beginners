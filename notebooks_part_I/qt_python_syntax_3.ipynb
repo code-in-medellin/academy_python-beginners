{
 "cells": [
  {
   "cell_type": "markdown",
   "metadata": {},
   "source": [
    "# Quantrack Python crash course 3.\n",
    "\n",
    "\n",
    "### 1. For loops, introduction\n",
    "### 2. Continue and Break Statement\n",
    "### 3. Exercises and nested loops"
   ]
  },
  {
   "cell_type": "markdown",
   "metadata": {},
   "source": [
    "## 1. For loops, introduction"
   ]
  },
  {
   "cell_type": "markdown",
   "metadata": {},
   "source": [
    "The for loop that is used to iterate over elements of a sequence, it is often used when you have a piece of code which you want to repeat \"n\" number of time. \n",
    "\n",
    "It works like this: \" for all elements in a list, do this \""
   ]
  },
  {
   "cell_type": "code",
   "execution_count": 2,
   "metadata": {},
   "outputs": [
    {
     "name": "stdout",
     "output_type": "stream",
     "text": [
      "Apple\n",
      "Asus\n",
      "Dell\n",
      "Samsung\n"
     ]
    }
   ],
   "source": [
    "computer_brands = [\"Apple\", \"Asus\", \"Dell\", \"Samsung\"]\n",
    "for brands in computer_brands:\n",
    "    print (brands)"
   ]
  },
  {
   "cell_type": "markdown",
   "metadata": {},
   "source": [
    "That reads, for every element that we assign the variable brands, \n",
    "in the list computer_brands, print out the variable brands"
   ]
  },
  {
   "cell_type": "code",
   "execution_count": 87,
   "metadata": {},
   "outputs": [
    {
     "name": "stdout",
     "output_type": "stream",
     "text": [
      "7\n",
      "16\n",
      "26\n",
      "36\n",
      "46\n",
      "56\n"
     ]
    }
   ],
   "source": [
    "numbers = [1,10,20,30,40,50]\n",
    "\n",
    "for number in numbers:\n",
    "    new_number = number + 6\n",
    "    print(new_number)"
   ]
  },
  {
   "cell_type": "markdown",
   "metadata": {},
   "source": [
    "At each iteration we create a new variable named new_number corresponding to number + 6, then we print it. "
   ]
  },
  {
   "cell_type": "markdown",
   "metadata": {},
   "source": [
    "### a. Range function"
   ]
  },
  {
   "cell_type": "markdown",
   "metadata": {},
   "source": [
    "Here we are using range() function to calculate and display the sum of   first 5 natural numbers.  \n",
    "We use it loop over an interval of integers."
   ]
  },
  {
   "cell_type": "code",
   "execution_count": 89,
   "metadata": {},
   "outputs": [
    {
     "name": "stdout",
     "output_type": "stream",
     "text": [
      "1\n",
      "2\n",
      "3\n",
      "4\n",
      "5\n",
      "6\n",
      "7\n",
      "8\n",
      "9\n"
     ]
    }
   ],
   "source": [
    "for number in range(1,10):\n",
    "    print(number)"
   ]
  },
  {
   "cell_type": "code",
   "execution_count": 90,
   "metadata": {},
   "outputs": [
    {
     "name": "stdout",
     "output_type": "stream",
     "text": [
      "15\n"
     ]
    }
   ],
   "source": [
    "# Program to print the sum of first 5 natural numbers\n",
    "\n",
    "# variable to store the sum\n",
    "sum = 0\n",
    "\n",
    "# iterating over natural numbers using range()\n",
    "for val in range(1, 6):\n",
    "    # calculating sum\n",
    "    sum = sum + val\n",
    "\n",
    "# displaying sum of first 5 natural numbers\n",
    "print(sum)"
   ]
  },
  {
   "cell_type": "markdown",
   "metadata": {},
   "source": [
    "## b. If/else block \n",
    "\n",
    "In Python we can have an optional ‘else’ block associated with the loop.   The ‘else’ block executes only when the loop has completed all the iterations. Lets take an example:"
   ]
  },
  {
   "cell_type": "code",
   "execution_count": 91,
   "metadata": {},
   "outputs": [
    {
     "name": "stdout",
     "output_type": "stream",
     "text": [
      "0\n",
      "1\n",
      "2\n",
      "3\n",
      "4\n",
      "The loop has completed execution\n"
     ]
    }
   ],
   "source": [
    "for val in range(5):\n",
    "    print(val)\n",
    "else:\n",
    "    print(\"The loop has completed execution\")"
   ]
  },
  {
   "cell_type": "code",
   "execution_count": 92,
   "metadata": {},
   "outputs": [
    {
     "name": "stdout",
     "output_type": "stream",
     "text": [
      "E This letter is not a s\n",
      "s This letter is a s\n",
      "t This letter is not a s\n",
      "a This letter is not a s\n",
      "d This letter is not a s\n",
      "o This letter is not a s\n",
      "s This letter is a s\n",
      "- This letter is not a s\n",
      "u This letter is not a s\n",
      "n This letter is not a s\n",
      "i This letter is not a s\n",
      "d This letter is not a s\n",
      "o This letter is not a s\n",
      "s This letter is a s\n"
     ]
    }
   ],
   "source": [
    "for letter in 'Estados-unidos':\n",
    "    if letter == 's':\n",
    "        print(letter,'This letter is a s')\n",
    "    else:\n",
    "        print(letter,'This letter is not a s')"
   ]
  },
  {
   "cell_type": "code",
   "execution_count": 93,
   "metadata": {},
   "outputs": [
    {
     "name": "stdout",
     "output_type": "stream",
     "text": [
      "0 is a multiple of 3\n",
      "1 is not a multiple of 3\n",
      "2 is not a multiple of 3\n",
      "3 is a multiple of 3\n",
      "4 is not a multiple of 3\n",
      "5 is not a multiple of 3\n",
      "6 is a multiple of 3\n",
      "7 is not a multiple of 3\n",
      "8 is not a multiple of 3\n",
      "9 is a multiple of 3\n"
     ]
    }
   ],
   "source": [
    "for val in range(10):\n",
    "    if val%3==0 :\n",
    "        print(val,'is a multiple of 3')\n",
    "    else:\n",
    "        print(val,'is not a multiple of 3')"
   ]
  },
  {
   "cell_type": "code",
   "execution_count": 94,
   "metadata": {},
   "outputs": [
    {
     "name": "stdout",
     "output_type": "stream",
     "text": [
      "Solo me gusta la lettra C\n",
      "Camila.S\n",
      "Camila.J\n",
      "Solo me gusta la lettra C\n",
      "Solo me gusta la lettra C\n",
      "Solo me gusta la lettra C\n",
      "Solo me gusta la lettra C\n"
     ]
    }
   ],
   "source": [
    "list_of_students = ['Albert','Camila.S','Camila.J'\n",
    "                    ,'Laura','Keila','Yacine','Matthew']\n",
    "\n",
    "for alumni in list_of_students:\n",
    "    if alumni[0] == 'C':\n",
    "        print(alumni)\n",
    "    else:\n",
    "        print('Solo me gusta la lettra C')"
   ]
  },
  {
   "cell_type": "markdown",
   "metadata": {},
   "source": [
    "Exercise : Print name containing letter c."
   ]
  },
  {
   "cell_type": "code",
   "execution_count": 95,
   "metadata": {},
   "outputs": [
    {
     "name": "stdout",
     "output_type": "stream",
     "text": [
      "There is no C in this name\n",
      "\n",
      "Camila.S\n",
      "\n",
      "Camila.J\n",
      "\n",
      "There is no C in this name\n",
      "\n",
      "There is no C in this name\n",
      "\n",
      "Yacine\n",
      "\n",
      "There is no C in this name\n",
      "\n"
     ]
    }
   ],
   "source": [
    "for alumni in list_of_students:\n",
    "    if 'c' in set(alumni) or 'C' in set(alumni):\n",
    "        print(alumni)\n",
    "        print()\n",
    "    else:\n",
    "        print('There is no C in this name')\n",
    "        print()"
   ]
  },
  {
   "cell_type": "markdown",
   "metadata": {},
   "source": [
    "## 2. Continue and Break statement"
   ]
  },
  {
   "cell_type": "markdown",
   "metadata": {},
   "source": [
    "What is the use of break and continue in Python?\n",
    "In Python, break and continue statements can alter the flow of a normal loop.\n",
    "\n",
    "Loops iterate over a block of code until the test expression is false, but sometimes we wish to terminate the current iteration or even the whole loop without checking test expression.\n",
    "\n",
    "The break and continue statements are used in these cases."
   ]
  },
  {
   "cell_type": "markdown",
   "metadata": {},
   "source": [
    "### a. Break statement"
   ]
  },
  {
   "cell_type": "markdown",
   "metadata": {},
   "source": [
    "The break statement terminates the loop containing it. Control of the program flows to the statement immediately after the body of the loop.\n",
    "\n",
    "If the break statement is inside a nested loop (loop inside another loop), the break statement will terminate the innermost loop."
   ]
  },
  {
   "cell_type": "code",
   "execution_count": 75,
   "metadata": {},
   "outputs": [
    {
     "name": "stdout",
     "output_type": "stream",
     "text": [
      "s\n",
      "t\n",
      "r\n",
      "We met the letter i, this is the end of the loop\n"
     ]
    }
   ],
   "source": [
    "for letter in \"string\":\n",
    "    if letter == \"i\":\n",
    "        break\n",
    "    print(letter)\n",
    "\n",
    "print(\"We met the letter i, this is the end of the loop\")"
   ]
  },
  {
   "cell_type": "code",
   "execution_count": 76,
   "metadata": {},
   "outputs": [
    {
     "name": "stdout",
     "output_type": "stream",
     "text": [
      "apple\n",
      "banana\n"
     ]
    }
   ],
   "source": [
    "fruits = [\"apple\", \"banana\", \"cherry\"]\n",
    "for x in fruits:\n",
    "    print(x)\n",
    "    if x == \"banana\":\n",
    "        break"
   ]
  },
  {
   "cell_type": "code",
   "execution_count": 77,
   "metadata": {},
   "outputs": [
    {
     "name": "stdout",
     "output_type": "stream",
     "text": [
      "1\n",
      "2\n",
      "3\n",
      "4\n",
      "5\n"
     ]
    }
   ],
   "source": [
    "for number in range(1,10):\n",
    "    print(number)\n",
    "    if number >= 5:\n",
    "        break\n",
    "        "
   ]
  },
  {
   "cell_type": "markdown",
   "metadata": {},
   "source": [
    "### b. Continue statement"
   ]
  },
  {
   "cell_type": "markdown",
   "metadata": {},
   "source": [
    "The continue statement is used to tell Python to skip the rest of the statements \n",
    "in the current loop block and to continue to the next iteration of the loop."
   ]
  },
  {
   "cell_type": "code",
   "execution_count": 78,
   "metadata": {},
   "outputs": [
    {
     "name": "stdout",
     "output_type": "stream",
     "text": [
      "5\n",
      "6\n",
      "7\n",
      "8\n",
      "9\n"
     ]
    }
   ],
   "source": [
    "for number in range(1,10):\n",
    "    if number < 5:\n",
    "        continue\n",
    "    print(number)"
   ]
  },
  {
   "cell_type": "markdown",
   "metadata": {},
   "source": [
    "## 3. Exercises"
   ]
  },
  {
   "cell_type": "markdown",
   "metadata": {},
   "source": [
    "#### Exercise 1:\n",
    "\n",
    "Print the following pattern  \n",
    "\n",
    "1     \n",
    "1 2   \n",
    "1 2 3   \n",
    "1 2 3 4   \n",
    "1 2 3 4 5  \n",
    "\n",
    "Solution :"
   ]
  },
  {
   "cell_type": "code",
   "execution_count": 80,
   "metadata": {},
   "outputs": [
    {
     "name": "stdout",
     "output_type": "stream",
     "text": [
      "1 \n",
      "1 2 \n",
      "1 2 3 \n",
      "1 2 3 4 \n",
      "1 2 3 4 5 \n"
     ]
    }
   ],
   "source": [
    "last_index = 6\n",
    "\n",
    "for i in range(1, last_index):\n",
    "    for j in range(1, i + 1):\n",
    "        print(j, end=' ')\n",
    "    print(\"\")"
   ]
  },
  {
   "cell_type": "markdown",
   "metadata": {},
   "source": [
    "#### Exercise 2:\n",
    "\n",
    "Calculate the number of words starting with C in a list - You may have to create your own list.\n",
    "\n",
    "Solution :"
   ]
  },
  {
   "cell_type": "code",
   "execution_count": 81,
   "metadata": {},
   "outputs": [
    {
     "name": "stdout",
     "output_type": "stream",
     "text": [
      "2\n"
     ]
    }
   ],
   "source": [
    "list_of_students = ['Albert','Camila.S','Camila.J'\n",
    "                    ,'Laura','Keila','Yacine','Matthew']\n",
    "\n",
    "number = 0 \n",
    "for alumni in list_of_students:\n",
    "    if alumni[0] == 'C':\n",
    "        number = number + 1 \n",
    "        \n",
    "print(number)"
   ]
  },
  {
   "cell_type": "markdown",
   "metadata": {},
   "source": [
    "Here the variable number is used as a counter. At each iteration we add +1 if the first letter is C. Note that we could have used the following syntax :"
   ]
  },
  {
   "cell_type": "code",
   "execution_count": 83,
   "metadata": {},
   "outputs": [
    {
     "name": "stdout",
     "output_type": "stream",
     "text": [
      "2\n"
     ]
    }
   ],
   "source": [
    "number = 0 \n",
    "for alumni in list_of_students:\n",
    "    if alumni[0] == 'C':\n",
    "        number += 1\n",
    "        \n",
    "print(number)"
   ]
  },
  {
   "cell_type": "markdown",
   "metadata": {},
   "source": [
    "#### Exercice 3:\n",
    "\n",
    "Given a list of list, print every item of each list\n",
    "\n",
    "Solution :"
   ]
  },
  {
   "cell_type": "code",
   "execution_count": 55,
   "metadata": {},
   "outputs": [
    {
     "name": "stdout",
     "output_type": "stream",
     "text": [
      "hammerhead\n",
      "great white\n",
      "dogfish\n",
      "0\n",
      "1\n",
      "2\n",
      "9.9\n",
      "8.8\n",
      "7.7\n"
     ]
    }
   ],
   "source": [
    "list_of_lists = [['hammerhead', 'great white', 'dogfish'],[0, 1, 2],[9.9, 8.8, 7.7]]\n",
    "\n",
    "for list in list_of_lists:\n",
    "    for item in list:\n",
    "        print(item)"
   ]
  },
  {
   "cell_type": "markdown",
   "metadata": {},
   "source": [
    "#### Note on nested loops"
   ]
  },
  {
   "cell_type": "markdown",
   "metadata": {},
   "source": [
    "The program first encounters the outer loop, executing its first iteration. This first iteration triggers the inner, nested loop, which then runs to completion. Then the program returns back to the top of the outer loop, completing the second iteration and again triggering the nested loop. Again, the nested loop runs to completion, and the program returns back to the top of the outer loop until the sequence is complete or a break or other statement disrupts the process."
   ]
  },
  {
   "cell_type": "markdown",
   "metadata": {},
   "source": [
    "When we utilize a nested for loop we are able to iterate over the individual items contained in the lists."
   ]
  }
 ],
 "metadata": {
  "kernelspec": {
   "display_name": "Python 3",
   "language": "python",
   "name": "python3"
  },
  "language_info": {
   "codemirror_mode": {
    "name": "ipython",
    "version": 3
   },
   "file_extension": ".py",
   "mimetype": "text/x-python",
   "name": "python",
   "nbconvert_exporter": "python",
   "pygments_lexer": "ipython3",
   "version": "3.7.4"
  }
 },
 "nbformat": 4,
 "nbformat_minor": 2
}
