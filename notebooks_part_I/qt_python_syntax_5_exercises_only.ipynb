{
 "cells": [
  {
   "cell_type": "markdown",
   "metadata": {},
   "source": [
    "# Quantrack Python crash course 5."
   ]
  },
  {
   "cell_type": "markdown",
   "metadata": {},
   "source": [
    "For the fifth session, we will try and apply what we have learnt during the past sessions about :\n",
    "\n",
    "* How to define variables ?\n",
    "* Strings and print statement\n",
    "* Lists and their built-in functions\n",
    "* For loop, with if/else conditions\n",
    "* Functions in Python"
   ]
  },
  {
   "cell_type": "markdown",
   "metadata": {},
   "source": [
    "### Basic questions :\n",
    "\n",
    "1. What is the syntax of a programming language?\n",
    "2. What is a \"high level\" language ?\n",
    "3. What is object-oriented programming ?"
   ]
  },
  {
   "cell_type": "markdown",
   "metadata": {},
   "source": [
    "### 1. Basic statements, strings, print.\n",
    "### 2. For loop - if/else conditions - lists.\n",
    "### 3. Miscellaneous"
   ]
  },
  {
   "cell_type": "markdown",
   "metadata": {},
   "source": [
    "First two parts are pretty easy, the last one is a bit harder with exercises tackling every topics we have been studying so far. You will need to import packages - something we have not studied yet - and will probably face some errors. Please try and debug your code yourself as much as possible."
   ]
  },
  {
   "cell_type": "markdown",
   "metadata": {},
   "source": [
    "## 1. Basic statements, strings, print."
   ]
  },
  {
   "cell_type": "markdown",
   "metadata": {},
   "source": [
    "### a. Write a Python program to get the Python version you are using\n",
    "\n",
    "You will need to import a package"
   ]
  },
  {
   "cell_type": "markdown",
   "metadata": {},
   "source": [
    "### b. Write a Python program to display the current date and time, with only hours and minutes.\n",
    "\n",
    "You will need to import a package"
   ]
  },
  {
   "cell_type": "markdown",
   "metadata": {},
   "source": [
    "### c. Write a Python program to calculate number of days between two dates \n",
    "\n",
    "Use datetime package - a very important one"
   ]
  },
  {
   "cell_type": "markdown",
   "metadata": {},
   "source": [
    "### Solutions"
   ]
  },
  {
   "cell_type": "markdown",
   "metadata": {},
   "source": [
    "### a.  Python version"
   ]
  },
  {
   "cell_type": "code",
   "execution_count": 1,
   "metadata": {},
   "outputs": [
    {
     "name": "stdout",
     "output_type": "stream",
     "text": [
      "Python version\n",
      "3.7.4 (default, Aug 13 2019, 15:17:50) \n",
      "[Clang 4.0.1 (tags/RELEASE_401/final)]\n",
      "Version info.\n",
      "sys.version_info(major=3, minor=7, micro=4, releaselevel='final', serial=0)\n"
     ]
    }
   ],
   "source": [
    "import sys\n",
    "\n",
    "print(\"Python version\")\n",
    "print (sys.version)\n",
    "\n",
    "print(\"Version info.\")\n",
    "print (sys.version_info)"
   ]
  },
  {
   "cell_type": "markdown",
   "metadata": {},
   "source": [
    "### b. Current date and time"
   ]
  },
  {
   "cell_type": "code",
   "execution_count": 27,
   "metadata": {},
   "outputs": [
    {
     "name": "stdout",
     "output_type": "stream",
     "text": [
      "Current date and time : \n",
      "2020-05-01 08:21\n"
     ]
    }
   ],
   "source": [
    "import datetime\n",
    "\n",
    "now = datetime.datetime.now()\n",
    "print (\"Current date and time : \")\n",
    "print (now.strftime(\"%Y-%m-%d %H:%M\"))"
   ]
  },
  {
   "cell_type": "markdown",
   "metadata": {},
   "source": [
    "### c. Number of days between two dates"
   ]
  },
  {
   "cell_type": "code",
   "execution_count": 28,
   "metadata": {},
   "outputs": [
    {
     "name": "stdout",
     "output_type": "stream",
     "text": [
      "9\n"
     ]
    }
   ],
   "source": [
    "from datetime import date\n",
    "\n",
    "f_date = date(2014, 7, 2)\n",
    "l_date = date(2014, 7, 11)\n",
    "delta = l_date - f_date\n",
    "\n",
    "print(delta.days)"
   ]
  },
  {
   "cell_type": "markdown",
   "metadata": {},
   "source": [
    "We imported date module from datetime packages"
   ]
  },
  {
   "cell_type": "markdown",
   "metadata": {},
   "source": [
    "## 2. Loops, if/else conditions"
   ]
  },
  {
   "cell_type": "markdown",
   "metadata": {},
   "source": [
    "### a. Remove duplicates from a list\n",
    "\n",
    "Use set."
   ]
  },
  {
   "cell_type": "markdown",
   "metadata": {},
   "source": [
    "### b. Print the numbers of a specified list after removing even numbers from it\n",
    "\n",
    "Try and look for list comprehension, use *%* operator and find what it does.   \n",
    "print 10%3, 25%4, 5%2 "
   ]
  },
  {
   "cell_type": "markdown",
   "metadata": {},
   "source": [
    "### c. Remove and print every third number from a list of numbers until the list becomes empty.\n",
    "\n",
    "Use a *while*   \n",
    "Use pop "
   ]
  },
  {
   "cell_type": "markdown",
   "metadata": {},
   "source": [
    "### Solutions"
   ]
  },
  {
   "cell_type": "markdown",
   "metadata": {},
   "source": [
    "### a. Remove duplicates from a list - You have done it already"
   ]
  },
  {
   "cell_type": "code",
   "execution_count": 33,
   "metadata": {},
   "outputs": [
    {
     "name": "stdout",
     "output_type": "stream",
     "text": [
      "{40, 10, 80, 50, 20, 60, 30}\n",
      "[10, 20, 30, 50, 60, 40, 80]\n"
     ]
    }
   ],
   "source": [
    "a = [10,20,30,20,10,50,60,40,80,50,40]\n",
    "\n",
    "dup_items = set()\n",
    "uniq_items = []\n",
    "\n",
    "for x in a:\n",
    "    if x not in dup_items:\n",
    "        uniq_items.append(x)\n",
    "        dup_items.add(x)\n",
    "\n",
    "print(dup_items)\n",
    "print(uniq_items)"
   ]
  },
  {
   "cell_type": "code",
   "execution_count": 34,
   "metadata": {},
   "outputs": [
    {
     "name": "stdout",
     "output_type": "stream",
     "text": [
      "[40, 10, 80, 50, 20, 60, 30]\n"
     ]
    }
   ],
   "source": [
    "#other solution\n",
    "a = [10,20,30,20,10,50,60,40,80,50,40]\n",
    "\n",
    "uniq_items = list(set(a))\n",
    "print(uniq_items)"
   ]
  },
  {
   "cell_type": "markdown",
   "metadata": {},
   "source": [
    "### b. Remove even numbers"
   ]
  },
  {
   "cell_type": "code",
   "execution_count": 52,
   "metadata": {},
   "outputs": [
    {
     "name": "stdout",
     "output_type": "stream",
     "text": [
      "[17, 5353, 435, 6.77, 25, 27]\n"
     ]
    }
   ],
   "source": [
    "num = [17,8,2,5353,435,6.77,4120, 25, 44, 20, 27]\n",
    "\n",
    "#this is a list-comprehension\n",
    "num = [x for x in num if x%2!=0]\n",
    "\n",
    "print(num)"
   ]
  },
  {
   "cell_type": "code",
   "execution_count": 43,
   "metadata": {},
   "outputs": [
    {
     "name": "stdout",
     "output_type": "stream",
     "text": [
      "[17, 5353, 435, 6.77, 25, 27]\n"
     ]
    }
   ],
   "source": [
    "#loop solution\n",
    "\n",
    "list_even = []\n",
    "\n",
    "for element in num:\n",
    "    #condition meet by all pair numbers\n",
    "    if element%2 != 0:\n",
    "        \n",
    "        list_even.append(element)\n",
    "        \n",
    "print(list_even)"
   ]
  },
  {
   "cell_type": "code",
   "execution_count": 51,
   "metadata": {},
   "outputs": [
    {
     "name": "stdout",
     "output_type": "stream",
     "text": [
      "[17, 5353, 435, 6.77, 25, 27]\n"
     ]
    }
   ],
   "source": [
    "#another loop solution using type\n",
    "\n",
    "list_even = [] \n",
    "\n",
    "for element in num:\n",
    "    #condition meet by all pair numbers\n",
    "    \n",
    "    #if integer result of division is equal to floating converted version\n",
    "    if int(element/2) != float(element/2):\n",
    "        \n",
    "        list_even.append(element)\n",
    "        \n",
    "print(list_even)"
   ]
  },
  {
   "cell_type": "markdown",
   "metadata": {},
   "source": [
    "### c. Remove every third number from a list of numbers until the list becomes empty"
   ]
  },
  {
   "cell_type": "code",
   "execution_count": 23,
   "metadata": {},
   "outputs": [
    {
     "name": "stdout",
     "output_type": "stream",
     "text": [
      "13\n",
      "12\n",
      "11\n",
      "10\n",
      "9\n",
      "8\n",
      "7\n",
      "6\n",
      "5\n",
      "4\n",
      "3\n",
      "2\n",
      "1\n",
      "0\n"
     ]
    }
   ],
   "source": [
    "int_list = [10,3,5,3,6,123,6,4,77,4,2,5,7,6]\n",
    "\n",
    "#list starts with 0 index\n",
    "position = 3 - 1 \n",
    "idx = 0\n",
    "len_list = (len(int_list))\n",
    "\n",
    "while len_list>0:\n",
    "    \n",
    "    #integer result for euclidean division\n",
    "    idx = (position+idx)%len_list\n",
    "    #pop the targeted element\n",
    "    int_list.pop(idx)\n",
    "    #remo\n",
    "    len_list -= 1\n",
    "    print(len_list)"
   ]
  },
  {
   "cell_type": "code",
   "execution_count": 53,
   "metadata": {},
   "outputs": [
    {
     "name": "stdout",
     "output_type": "stream",
     "text": [
      "[]\n"
     ]
    }
   ],
   "source": [
    "print(int_list)"
   ]
  },
  {
   "cell_type": "markdown",
   "metadata": {},
   "source": [
    "## 3. Miscellaneous "
   ]
  },
  {
   "cell_type": "markdown",
   "metadata": {},
   "source": [
    "### a. Write a  program which iterates the integers from 1 to 50. \n",
    "\n",
    "* For multiples of three print \"Laureles bueno por el trabajo\" instead of the number\n",
    "* For the multiples of five print \"Barrio Antioquia bueno por el trabado\"\n",
    "* For numbers which are multiples of both three and five print \"n.a tu es un idiot\"\n",
    "\n",
    "Use *elif* and *continue* statement"
   ]
  },
  {
   "cell_type": "markdown",
   "metadata": {},
   "source": [
    "### b. Fibonacci, my good old friend\n",
    "\n",
    "Write a function that generate Fibonacci numbers. What is a Fibonacci number ? [Please check here ](https://es.wikipedia.org/wiki/Sucesi%C3%B3n_de_Fibonacci)\n",
    "\n",
    "(Hint: The Fibonnaci seqence is a sequence of numbers where the next number in the sequence is the sum of the previous two numbers in the sequence. The sequence looks like this: 1, 1, 2, 3, 5, 8, 13, …)"
   ]
  },
  {
   "cell_type": "markdown",
   "metadata": {},
   "source": [
    "### c.  Write a Python function that prints out the first n rows of Pascal's triangle\n",
    "\n",
    "Here is an example of Pascal's Triangle\n",
    "Each number is the two numbers above it added together  \n",
    "Note : I want a function that *prints* something\n",
    "\n",
    "![image](https://www.w3resource.com/w3r_images/pascal-traingle.png)"
   ]
  },
  {
   "cell_type": "markdown",
   "metadata": {},
   "source": [
    "### a. The best barrio in Medellín"
   ]
  },
  {
   "cell_type": "code",
   "execution_count": 58,
   "metadata": {},
   "outputs": [
    {
     "name": "stdout",
     "output_type": "stream",
     "text": [
      "Laureles bueno por el trabajo\n",
      "1\n",
      "2\n",
      "Barrio Antioquia bueno por el trabado\n",
      "4\n",
      "n.a tu es un idiot\n",
      "Barrio Antioquia bueno por el trabado\n",
      "7\n",
      "8\n",
      "Barrio Antioquia bueno por el trabado\n",
      "n.a tu es un idiot\n",
      "11\n",
      "Barrio Antioquia bueno por el trabado\n",
      "13\n",
      "14\n",
      "Laureles bueno por el trabajo\n",
      "16\n",
      "17\n",
      "Barrio Antioquia bueno por el trabado\n",
      "19\n",
      "n.a tu es un idiot\n",
      "Barrio Antioquia bueno por el trabado\n",
      "22\n",
      "23\n",
      "Barrio Antioquia bueno por el trabado\n",
      "n.a tu es un idiot\n",
      "26\n",
      "Barrio Antioquia bueno por el trabado\n",
      "28\n",
      "29\n",
      "Laureles bueno por el trabajo\n",
      "31\n",
      "32\n",
      "Barrio Antioquia bueno por el trabado\n",
      "34\n",
      "n.a tu es un idiot\n",
      "Barrio Antioquia bueno por el trabado\n",
      "37\n",
      "38\n",
      "Barrio Antioquia bueno por el trabado\n",
      "n.a tu es un idiot\n",
      "41\n",
      "Barrio Antioquia bueno por el trabado\n",
      "43\n",
      "44\n",
      "Laureles bueno por el trabajo\n",
      "46\n",
      "47\n",
      "Barrio Antioquia bueno por el trabado\n",
      "49\n",
      "n.a tu es un idiot\n"
     ]
    }
   ],
   "source": [
    "#natural solution\n",
    "\n",
    "for n in range(51):\n",
    "    \n",
    "    if n % 3 == 0 and n % 5 == 0:\n",
    "        print(\"Laureles bueno por el trabajo\")\n",
    "        continue\n",
    "        \n",
    "    elif n % 3 == 0:\n",
    "        print(\"Barrio Antioquia bueno por el trabado\")\n",
    "        continue\n",
    "        \n",
    "    elif n % 5 == 0:\n",
    "        print(\"n.a tu es un idiot\")\n",
    "        continue\n",
    "        \n",
    "    print(n)"
   ]
  },
  {
   "cell_type": "markdown",
   "metadata": {},
   "source": [
    "### b. [Fibonnaci, my good old friend](https://www.youtube.com/watch?v=ctRIK56jV3k)"
   ]
  },
  {
   "cell_type": "code",
   "execution_count": 85,
   "metadata": {},
   "outputs": [],
   "source": [
    "def fib(n):\n",
    "    \n",
    "    if n == 0:\n",
    "        return [0]\n",
    "    \n",
    "    elif n == 1:\n",
    "        return [0, 1]\n",
    "    \n",
    "    else:\n",
    "        lst = fib(n-1)\n",
    "        lst.append(lst[-1] + lst[-2])\n",
    "        return lst"
   ]
  },
  {
   "cell_type": "code",
   "execution_count": 87,
   "metadata": {},
   "outputs": [
    {
     "name": "stdout",
     "output_type": "stream",
     "text": [
      "[0, 1, 1, 2, 3, 5, 8, 13, 21, 34, 55]\n",
      "[0, 1, 1, 2, 3, 5, 8]\n",
      "[0, 1, 1, 2, 3, 5]\n"
     ]
    }
   ],
   "source": [
    "print(fib(10))\n",
    "print(fib(6))\n",
    "print(fib(5))"
   ]
  },
  {
   "cell_type": "markdown",
   "metadata": {},
   "source": [
    "### c. The triangle of Blaise Pascal - [an amazing French mathematician](https://en.wikipedia.org/wiki/Pascal's_calculator)."
   ]
  },
  {
   "cell_type": "code",
   "execution_count": 88,
   "metadata": {},
   "outputs": [
    {
     "name": "stdout",
     "output_type": "stream",
     "text": [
      "            1 \n",
      "         1      1 \n",
      "\n",
      "               1 \n",
      "            1      1 \n",
      "         1      2      1 \n",
      "\n",
      "                                    1 \n",
      "                                 1      1 \n",
      "                              1      2      1 \n",
      "                           1      3      3      1 \n",
      "                        1      4      6      4      1 \n",
      "                     1      5     10     10      5      1 \n",
      "                  1      6     15     20     15      6      1 \n",
      "               1      7     21     35     35     21      7      1 \n",
      "            1      8     28     56     70     56     28      8      1 \n",
      "         1      9     36     84    126    126     84     36      9      1 \n",
      "\n",
      "                     1 \n",
      "                  1      1 \n",
      "               1      2      1 \n",
      "            1      3      3      1 \n",
      "         1      4      6      4      1 \n",
      "\n",
      "                           1 \n",
      "                        1      1 \n",
      "                     1      2      1 \n",
      "                  1      3      3      1 \n",
      "               1      4      6      4      1 \n",
      "            1      5     10     10      5      1 \n",
      "         1      6     15     20     15      6      1 \n"
     ]
    }
   ],
   "source": [
    "def pascal_triangle(n):\n",
    "    \n",
    "    a=[]\n",
    "    \n",
    "    #first loop\n",
    "    for i in range(n):\n",
    "        a.append([])\n",
    "        a[i].append(1)\n",
    "        \n",
    "        #for each number < n, we create the center of the line below\n",
    "        for j in range(1,i):\n",
    "            a[i].append(a[i-1][j-1]+a[i-1][j])\n",
    "        if(n!=0):\n",
    "            #we write 1 one the sides\n",
    "            a[i].append(1)\n",
    "    for i in range(n):\n",
    "        print(\"   \"*(n-i),end=\" \",sep=\" \")\n",
    "        for j in range(0,i+1):\n",
    "            print('{0:6}'.format(a[i][j]),end=\" \",sep=\" \")\n",
    "        print()\n",
    "\n",
    "pascal_triangle(2)\n",
    "\n",
    "print()\n",
    "pascal_triangle(3)\n",
    "\n",
    "print()\n",
    "pascal_triangle(10)\n",
    "\n",
    "print()\n",
    "pascal_triangle(5)\n",
    "\n",
    "print()\n",
    "pascal_triangle(7)"
   ]
  }
 ],
 "metadata": {
  "kernelspec": {
   "display_name": "Python 3",
   "language": "python",
   "name": "python3"
  },
  "language_info": {
   "codemirror_mode": {
    "name": "ipython",
    "version": 3
   },
   "file_extension": ".py",
   "mimetype": "text/x-python",
   "name": "python",
   "nbconvert_exporter": "python",
   "pygments_lexer": "ipython3",
   "version": "3.7.4"
  }
 },
 "nbformat": 4,
 "nbformat_minor": 2
}
